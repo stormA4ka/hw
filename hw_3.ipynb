{
 "cells": [
  {
   "cell_type": "markdown",
   "metadata": {},
   "source": [
    "# Импортируем нужные библиотеки"
   ]
  },
  {
   "cell_type": "code",
   "execution_count": 1,
   "metadata": {
    "collapsed": true
   },
   "outputs": [],
   "source": [
    "import pandas as pd\n",
    "%matplotlib inline\n",
    "from matplotlib import pyplot as plt\n",
    "import seaborn as sns\n",
    "from sklearn.model_selection import train_test_split\n",
    "from sklearn.tree import DecisionTreeClassifier\n",
    "from sklearn.neighbors import KNeighborsClassifier\n",
    "from sklearn.linear_model import LogisticRegression\n",
    "from sklearn.metrics import roc_auc_score, roc_curve, accuracy_score, f1_score, precision_score, recall_score\n",
    "from tqdm import tqdm"
   ]
  },
  {
   "cell_type": "markdown",
   "metadata": {},
   "source": [
    "# Загружаем данные"
   ]
  },
  {
   "cell_type": "code",
   "execution_count": 2,
   "metadata": {},
   "outputs": [
    {
     "data": {
      "text/plain": [
       "(76020, 370)"
      ]
     },
     "execution_count": 2,
     "metadata": {},
     "output_type": "execute_result"
    }
   ],
   "source": [
    "train = pd.read_csv('03_santander_train.csv', index_col='ID')\n",
    "train.shape"
   ]
  },
  {
   "cell_type": "code",
   "execution_count": 3,
   "metadata": {},
   "outputs": [
    {
     "data": {
      "text/plain": [
       "(75818, 369)"
      ]
     },
     "execution_count": 3,
     "metadata": {},
     "output_type": "execute_result"
    }
   ],
   "source": [
    "test = pd.read_csv('03_santander_test.csv', index_col='ID')\n",
    "test.shape"
   ]
  },
  {
   "cell_type": "code",
   "execution_count": 4,
   "metadata": {},
   "outputs": [
    {
     "name": "stdout",
     "output_type": "stream",
     "text": [
      "<class 'pandas.core.frame.DataFrame'>\n",
      "Int64Index: 76020 entries, 1 to 151838\n",
      "Columns: 369 entries, var3 to var38\n",
      "dtypes: float64(111), int64(258)\n",
      "memory usage: 214.6 MB\n"
     ]
    }
   ],
   "source": [
    "y = list(train['TARGET'])\n",
    "train = train.drop('TARGET', axis=1)\n",
    "train.info()"
   ]
  },
  {
   "cell_type": "code",
   "execution_count": 5,
   "metadata": {},
   "outputs": [
    {
     "data": {
      "text/plain": [
       "(151838, 370)"
      ]
     },
     "execution_count": 5,
     "metadata": {},
     "output_type": "execute_result"
    }
   ],
   "source": [
    "# Соеденим train и test в all_data\n",
    "train['is_test'] = False\n",
    "test['is_test'] = True\n",
    "all_data = pd.concat([train, test])\n",
    "all_data.shape"
   ]
  },
  {
   "cell_type": "code",
   "execution_count": 8,
   "metadata": {},
   "outputs": [
    {
     "name": "stdout",
     "output_type": "stream",
     "text": [
      "<class 'pandas.core.frame.DataFrame'>\n",
      "Int64Index: 76020 entries, 1 to 151838\n",
      "Columns: 369 entries, var3 to var38\n",
      "dtypes: float64(115), int64(254)\n",
      "memory usage: 214.6 MB\n"
     ]
    }
   ],
   "source": [
    "# выводим список всех фичей verbose=False - показывать весь список\n",
    "train.info(verbose=False, memory_usage=True, null_counts=True) "
   ]
  },
  {
   "cell_type": "code",
   "execution_count": 9,
   "metadata": {},
   "outputs": [
    {
     "data": {
      "text/plain": [
       "(76020, 369)"
      ]
     },
     "execution_count": 9,
     "metadata": {},
     "output_type": "execute_result"
    }
   ],
   "source": [
    "# Разделим снова all_data на train и test по ранее сделанным меткам\n",
    "train = all_data[~all_data.is_test].drop(['is_test'], axis=1)\n",
    "test = all_data[all_data.is_test].drop(['is_test'], axis=1)\n",
    "train.shape"
   ]
  },
  {
   "cell_type": "code",
   "execution_count": 10,
   "metadata": {
    "collapsed": true
   },
   "outputs": [],
   "source": [
    "# Разобьем наш train датасет на train X_train и X_test\n",
    "X_train, X_test, y_train, y_test = train_test_split(train, y, test_size=0.33, random_state=42)"
   ]
  },
  {
   "cell_type": "markdown",
   "metadata": {},
   "source": [
    "# Вспомогательные функции"
   ]
  },
  {
   "cell_type": "code",
   "execution_count": 11,
   "metadata": {
    "collapsed": true
   },
   "outputs": [],
   "source": [
    "def draw_hist(_y, result_predicts, xlim=(-1, 15), ylim=(-0.01, 1.01), size=(5,10)):\n",
    "    steps = []\n",
    "    scores = []\n",
    "    for data in result_predicts:\n",
    "        predict_prob, step = data\n",
    "        score = roc_auc_score(_y, predict_prob[:,1])\n",
    "        steps.append(step)\n",
    "        scores.append(score)\n",
    "    \n",
    "    plt.figure(figsize=size)\n",
    "    plt.xlim(xlim)\n",
    "    plt.ylim(ylim)\n",
    "    plt.xlabel(\"steps\")\n",
    "    plt.ylabel(\"ROC_AUC\")\n",
    "    plt.bar(steps, scores)"
   ]
  },
  {
   "cell_type": "code",
   "execution_count": 12,
   "metadata": {
    "collapsed": true
   },
   "outputs": [],
   "source": [
    "def cal_predict(x_train, y_train, x_test, blackbox):\n",
    "    \"\"\"\n",
    "    Строим модель прогнозирования\n",
    "    \n",
    "    @return predict, predict_proba \n",
    "    \"\"\"\n",
    "    model = blackbox # у квалификатора есть своё случайное значение.\n",
    "    model.fit(x_train, y_train)\n",
    "    predict = model.predict(x_test)\n",
    "    predict_proba = model.predict_proba(x_test)\n",
    "    return predict, predict_proba"
   ]
  },
  {
   "cell_type": "code",
   "execution_count": 13,
   "metadata": {
    "collapsed": true
   },
   "outputs": [],
   "source": [
    "def draw_roc_auc_multy(y_test, result_predicts):\n",
    "    plt.figure(figsize=(5, 10))\n",
    "    plt.plot([0, 1], [0, 1])\n",
    "    plt.ylabel('tpr')\n",
    "    plt.xlabel('fpr')\n",
    "    plt.grid(True)\n",
    "    plt.xlim((-0.01, 1.01))\n",
    "    plt.ylim((-0.01, 1.01))\n",
    "    for data in result_predicts:\n",
    "        predict_prob, depth = data\n",
    "        score = roc_auc_score(y_test, predict_prob[:,1])\n",
    "        fpr, tpr, thresholds = roc_curve(y_test, predict_prob[:,1])\n",
    "        plt.plot(fpr, tpr, label=f'ROC {score:.3f} {depth}')\n",
    "    plt.legend( borderaxespad=0.)"
   ]
  },
  {
   "cell_type": "markdown",
   "metadata": {},
   "source": [
    "# Строим Модели"
   ]
  },
  {
   "cell_type": "code",
   "execution_count": 14,
   "metadata": {},
   "outputs": [
    {
     "name": "stdout",
     "output_type": "stream",
     "text": [
      "precision 0.222222222222\n",
      "recall 0.00403632694248\n",
      "accuracy 0.960098855981\n",
      "f1 0.00792864222002\n"
     ]
    }
   ],
   "source": [
    "dtc = DecisionTreeClassifier(max_depth=5)\n",
    "dtc.fit(X_train, y_train)\n",
    "predict_dtc = dtc.predict(X_test)\n",
    "\n",
    "print('precision', precision_score(y_test, predict_dtc))\n",
    "print('recall', recall_score(y_test, predict_dtc))\n",
    "print('accuracy', accuracy_score(y_test, predict_dtc))\n",
    "print('f1', f1_score(y_test, predict_dtc))"
   ]
  },
  {
   "cell_type": "code",
   "execution_count": 15,
   "metadata": {},
   "outputs": [
    {
     "name": "stderr",
     "output_type": "stream",
     "text": [
      "100%|████████████████████████████████████████████| 7/7 [00:12<00:00,  1.72s/it]\n"
     ]
    }
   ],
   "source": [
    "predict_probs=[]\n",
    "for depth in tqdm(range(1,15,2)):\n",
    "    blackbox = DecisionTreeClassifier(max_depth=depth, random_state=42)\n",
    "    predict, predict_prob = cal_predict(\n",
    "        x_train=X_train,\n",
    "        x_test=X_test,\n",
    "        y_train=y_train,\n",
    "        blackbox=blackbox\n",
    "    )\n",
    "    predict_probs.append((predict_prob, depth))"
   ]
  },
  {
   "cell_type": "code",
   "execution_count": 16,
   "metadata": {},
   "outputs": [
    {
     "data": {
      "image/png": "[encoded data removed]",
      "text/plain": [
       "<matplotlib.figure.Figure at 0x1bf013b6ba8>"
      ]
     },
     "metadata": {},
     "output_type": "display_data"
    }
   ],
   "source": [
    "draw_roc_auc_multy(y_test, predict_probs)"
   ]
  },
  {
   "cell_type": "code",
   "execution_count": 17,
   "metadata": {
    "collapsed": true
   },
   "outputs": [],
   "source": [
    "knn = KNeighborsClassifier(n_neighbors=1)\n",
    "knn.fit(X_train, y_train)\n",
    "predict_knn = knn.predict(X_test)"
   ]
  },
  {
   "cell_type": "code",
   "execution_count": 18,
   "metadata": {},
   "outputs": [
    {
     "name": "stdout",
     "output_type": "stream",
     "text": [
      "precision 0.107709750567\n",
      "recall 0.095862764884\n",
      "accuracy 0.932913461155\n",
      "f1 0.10144153764\n"
     ]
    }
   ],
   "source": [
    "print('precision', precision_score(y_test, predict_knn))\n",
    "print('recall', recall_score(y_test, predict_knn))\n",
    "print('accuracy', accuracy_score(y_test, predict_knn))\n",
    "print('f1', f1_score(y_test, predict_knn))"
   ]
  },
  {
   "cell_type": "code",
   "execution_count": 19,
   "metadata": {
    "collapsed": true
   },
   "outputs": [],
   "source": [
    "lr = LogisticRegression()\n",
    "lr.fit(X_train, y_train)\n",
    "predict_lr = lr.predict(X_test)"
   ]
  },
  {
   "cell_type": "code",
   "execution_count": 20,
   "metadata": {},
   "outputs": [
    {
     "name": "stderr",
     "output_type": "stream",
     "text": [
      "C:\\Users\\User\\Anaconda3\\lib\\site-packages\\sklearn\\metrics\\classification.py:1113: UndefinedMetricWarning: Precision is ill-defined and being set to 0.0 due to no predicted samples.\n",
      "  'precision', 'predicted', average, warn_for)\n"
     ]
    },
    {
     "name": "stdout",
     "output_type": "stream",
     "text": [
      "precision 0.0\n",
      "recall 0.0\n",
      "accuracy 0.960497468809\n"
     ]
    },
    {
     "name": "stderr",
     "output_type": "stream",
     "text": [
      "C:\\Users\\User\\Anaconda3\\lib\\site-packages\\sklearn\\metrics\\classification.py:1113: UndefinedMetricWarning: F-score is ill-defined and being set to 0.0 due to no predicted samples.\n",
      "  'precision', 'predicted', average, warn_for)\n"
     ]
    },
    {
     "name": "stdout",
     "output_type": "stream",
     "text": [
      "f1 0.0\n"
     ]
    }
   ],
   "source": [
    "print('precision', precision_score(y_test, predict_lr))\n",
    "print('recall', recall_score(y_test, predict_lr))\n",
    "print('accuracy', accuracy_score(y_test, predict_lr))\n",
    "print('f1', f1_score(y_test, predict_lr))"
   ]
  },
  {
   "cell_type": "code",
   "execution_count": null,
   "metadata": {},
   "outputs": [
    {
     "name": "stdout",
     "output_type": "stream",
     "text": [
      "roc_auc_dtc 0.797575988511\n",
      "roc_auc_lr 0.597917466528\n"
     ]
    }
   ],
   "source": [
    "print('roc_auc_dtc', roc_auc_score(y_test, dtc.predict_proba(X_test)[:,1]))\n",
    "print('roc_auc_lr',roc_auc_score(y_test, lr.predict_proba(X_test)[:,1]))\n",
    "print('roc_auc_knn',roc_auc_score(y_test, knn.predict_proba(X_test)[:,1]))"
   ]
  },
  {
   "cell_type": "markdown",
   "metadata": {},
   "source": [
    "https://www.kaggle.com/cast42/exploring-features"
   ]
  },
  {
   "cell_type": "code",
   "execution_count": null,
   "metadata": {
    "collapsed": true
   },
   "outputs": [],
   "source": []
  }
 ],
 "metadata": {
  "kernelspec": {
   "display_name": "Python 3",
   "language": "python",
   "name": "python3"
  },
  "language_info": {
   "codemirror_mode": {
    "name": "ipython",
    "version": 3
   },
   "file_extension": ".py",
   "mimetype": "text/x-python",
   "name": "python",
   "nbconvert_exporter": "python",
   "pygments_lexer": "ipython3",
   "version": "3.6.1"
  }
 },
 "nbformat": 4,
 "nbformat_minor": 2
}
