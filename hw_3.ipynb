{
 "cells": [
  {
   "cell_type": "markdown",
   "metadata": {},
   "source": [
    "# Импортируем нужные библиотеки"
   ]
  },
  {
   "cell_type": "code",
   "execution_count": 2,
   "metadata": {
    "collapsed": true
   },
   "outputs": [],
   "source": [
    "import pandas as pd\n",
    "%matplotlib inline\n",
    "from matplotlib import pyplot as plt\n",
    "import seaborn as sns\n",
    "from sklearn.model_selection import train_test_split\n",
    "from sklearn.tree import DecisionTreeClassifier\n",
    "from sklearn.neighbors import KNeighborsClassifier\n",
    "from sklearn.linear_model import LogisticRegression\n",
    "from sklearn.metrics import roc_auc_score, roc_curve\n",
    "from tqdm import tqdm"
   ]
  },
  {
   "cell_type": "markdown",
   "metadata": {},
   "source": [
    "# Загружаем данные"
   ]
  },
  {
   "cell_type": "code",
   "execution_count": 3,
   "metadata": {},
   "outputs": [
    {
     "data": {
      "text/plain": [
       "(76020, 370)"
      ]
     },
     "execution_count": 3,
     "metadata": {},
     "output_type": "execute_result"
    }
   ],
   "source": [
    "train = pd.read_csv('03_santander_train.csv', index_col='ID')\n",
    "train.shape"
   ]
  },
  {
   "cell_type": "code",
   "execution_count": 4,
   "metadata": {},
   "outputs": [
    {
     "data": {
      "text/plain": [
       "(75818, 369)"
      ]
     },
     "execution_count": 4,
     "metadata": {},
     "output_type": "execute_result"
    }
   ],
   "source": [
    "test = pd.read_csv('03_santander_test.csv', index_col='ID')\n",
    "test.shape"
   ]
  },
  {
   "cell_type": "code",
   "execution_count": 5,
   "metadata": {},
   "outputs": [
    {
     "name": "stdout",
     "output_type": "stream",
     "text": [
      "<class 'pandas.core.frame.DataFrame'>\n",
      "Int64Index: 76020 entries, 1 to 151838\n",
      "Columns: 369 entries, var3 to var38\n",
      "dtypes: float64(111), int64(258)\n",
      "memory usage: 214.6 MB\n"
     ]
    }
   ],
   "source": [
    "y = list(train['TARGET'])\n",
    "train = train.drop('TARGET', axis=1)\n",
    "train.info()"
   ]
  },
  {
   "cell_type": "code",
   "execution_count": 6,
   "metadata": {},
   "outputs": [
    {
     "data": {
      "text/plain": [
       "(151838, 370)"
      ]
     },
     "execution_count": 6,
     "metadata": {},
     "output_type": "execute_result"
    }
   ],
   "source": [
    "# Соеденим train и test в all_data\n",
    "train['is_test'] = False\n",
    "test['is_test'] = True\n",
    "all_data = pd.concat([train, test])\n",
    "all_data.shape"
   ]
  },
  {
   "cell_type": "code",
   "execution_count": 7,
   "metadata": {
    "collapsed": true
   },
   "outputs": [
    {
     "name": "stdout",
     "output_type": "stream",
     "text": [
      "<class 'pandas.core.frame.DataFrame'>\n",
      "Int64Index: 76020 entries, 1 to 151838\n",
      "Data columns (total 370 columns):\n",
      "var3                             76020 non-null int64\n",
      "var15                            76020 non-null int64\n",
      "imp_ent_var16_ult1               76020 non-null float64\n",
      "imp_op_var39_comer_ult1          76020 non-null float64\n",
      "imp_op_var39_comer_ult3          76020 non-null float64\n",
      "imp_op_var40_comer_ult1          76020 non-null float64\n",
      "imp_op_var40_comer_ult3          76020 non-null float64\n",
      "imp_op_var40_efect_ult1          76020 non-null float64\n",
      "imp_op_var40_efect_ult3          76020 non-null float64\n",
      "imp_op_var40_ult1                76020 non-null float64\n",
      "imp_op_var41_comer_ult1          76020 non-null float64\n",
      "imp_op_var41_comer_ult3          76020 non-null float64\n",
      "imp_op_var41_efect_ult1          76020 non-null float64\n",
      "imp_op_var41_efect_ult3          76020 non-null float64\n",
      "imp_op_var41_ult1                76020 non-null float64\n",
      "imp_op_var39_efect_ult1          76020 non-null float64\n",
      "imp_op_var39_efect_ult3          76020 non-null float64\n",
      "imp_op_var39_ult1                76020 non-null float64\n",
      "imp_sal_var16_ult1               76020 non-null float64\n",
      "ind_var1_0                       76020 non-null int64\n",
      "ind_var1                         76020 non-null int64\n",
      "ind_var2_0                       76020 non-null int64\n",
      "ind_var2                         76020 non-null int64\n",
      "ind_var5_0                       76020 non-null int64\n",
      "ind_var5                         76020 non-null int64\n",
      "ind_var6_0                       76020 non-null int64\n",
      "ind_var6                         76020 non-null int64\n",
      "ind_var8_0                       76020 non-null int64\n",
      "ind_var8                         76020 non-null int64\n",
      "ind_var12_0                      76020 non-null int64\n",
      "ind_var12                        76020 non-null int64\n",
      "ind_var13_0                      76020 non-null int64\n",
      "ind_var13_corto_0                76020 non-null int64\n",
      "ind_var13_corto                  76020 non-null int64\n",
      "ind_var13_largo_0                76020 non-null int64\n",
      "ind_var13_largo                  76020 non-null int64\n",
      "ind_var13_medio_0                76020 non-null int64\n",
      "ind_var13_medio                  76020 non-null int64\n",
      "ind_var13                        76020 non-null int64\n",
      "ind_var14_0                      76020 non-null int64\n",
      "ind_var14                        76020 non-null int64\n",
      "ind_var17_0                      76020 non-null int64\n",
      "ind_var17                        76020 non-null int64\n",
      "ind_var18_0                      76020 non-null int64\n",
      "ind_var18                        76020 non-null int64\n",
      "ind_var19                        76020 non-null int64\n",
      "ind_var20_0                      76020 non-null int64\n",
      "ind_var20                        76020 non-null int64\n",
      "ind_var24_0                      76020 non-null int64\n",
      "ind_var24                        76020 non-null int64\n",
      "ind_var25_cte                    76020 non-null int64\n",
      "ind_var26_0                      76020 non-null int64\n",
      "ind_var26_cte                    76020 non-null int64\n",
      "ind_var26                        76020 non-null int64\n",
      "ind_var25_0                      76020 non-null int64\n",
      "ind_var25                        76020 non-null int64\n",
      "ind_var27_0                      76020 non-null int64\n",
      "ind_var28_0                      76020 non-null int64\n",
      "ind_var28                        76020 non-null int64\n",
      "ind_var27                        76020 non-null int64\n",
      "ind_var29_0                      76020 non-null int64\n",
      "ind_var29                        76020 non-null int64\n",
      "ind_var30_0                      76020 non-null int64\n",
      "ind_var30                        76020 non-null int64\n",
      "ind_var31_0                      76020 non-null int64\n",
      "ind_var31                        76020 non-null int64\n",
      "ind_var32_cte                    76020 non-null int64\n",
      "ind_var32_0                      76020 non-null int64\n",
      "ind_var32                        76020 non-null int64\n",
      "ind_var33_0                      76020 non-null int64\n",
      "ind_var33                        76020 non-null int64\n",
      "ind_var34_0                      76020 non-null int64\n",
      "ind_var34                        76020 non-null int64\n",
      "ind_var37_cte                    76020 non-null int64\n",
      "ind_var37_0                      76020 non-null int64\n",
      "ind_var37                        76020 non-null int64\n",
      "ind_var39_0                      76020 non-null int64\n",
      "ind_var40_0                      76020 non-null int64\n",
      "ind_var40                        76020 non-null int64\n",
      "ind_var41_0                      76020 non-null int64\n",
      "ind_var41                        76020 non-null int64\n",
      "ind_var39                        76020 non-null int64\n",
      "ind_var44_0                      76020 non-null int64\n",
      "ind_var44                        76020 non-null int64\n",
      "ind_var46_0                      76020 non-null int64\n",
      "ind_var46                        76020 non-null int64\n",
      "num_var1_0                       76020 non-null int64\n",
      "num_var1                         76020 non-null int64\n",
      "num_var4                         76020 non-null int64\n",
      "num_var5_0                       76020 non-null int64\n",
      "num_var5                         76020 non-null int64\n",
      "num_var6_0                       76020 non-null int64\n",
      "num_var6                         76020 non-null int64\n",
      "num_var8_0                       76020 non-null int64\n",
      "num_var8                         76020 non-null int64\n",
      "num_var12_0                      76020 non-null int64\n",
      "num_var12                        76020 non-null int64\n",
      "num_var13_0                      76020 non-null int64\n",
      "num_var13_corto_0                76020 non-null int64\n",
      "num_var13_corto                  76020 non-null int64\n",
      "num_var13_largo_0                76020 non-null int64\n",
      "num_var13_largo                  76020 non-null int64\n",
      "num_var13_medio_0                76020 non-null int64\n",
      "num_var13_medio                  76020 non-null int64\n",
      "num_var13                        76020 non-null int64\n",
      "num_var14_0                      76020 non-null int64\n",
      "num_var14                        76020 non-null int64\n",
      "num_var17_0                      76020 non-null int64\n",
      "num_var17                        76020 non-null int64\n",
      "num_var18_0                      76020 non-null int64\n",
      "num_var18                        76020 non-null int64\n",
      "num_var20_0                      76020 non-null int64\n",
      "num_var20                        76020 non-null int64\n",
      "num_var24_0                      76020 non-null int64\n",
      "num_var24                        76020 non-null int64\n",
      "num_var26_0                      76020 non-null int64\n",
      "num_var26                        76020 non-null int64\n",
      "num_var25_0                      76020 non-null int64\n",
      "num_var25                        76020 non-null int64\n",
      "num_op_var40_hace2               76020 non-null int64\n",
      "num_op_var40_hace3               76020 non-null int64\n",
      "num_op_var40_ult1                76020 non-null int64\n",
      "num_op_var40_ult3                76020 non-null int64\n",
      "num_op_var41_hace2               76020 non-null int64\n",
      "num_op_var41_hace3               76020 non-null int64\n",
      "num_op_var41_ult1                76020 non-null int64\n",
      "num_op_var41_ult3                76020 non-null int64\n",
      "num_op_var39_hace2               76020 non-null int64\n",
      "num_op_var39_hace3               76020 non-null int64\n",
      "num_op_var39_ult1                76020 non-null int64\n",
      "num_op_var39_ult3                76020 non-null int64\n",
      "num_var27_0                      76020 non-null int64\n",
      "num_var28_0                      76020 non-null int64\n",
      "num_var28                        76020 non-null int64\n",
      "num_var27                        76020 non-null int64\n",
      "num_var29_0                      76020 non-null int64\n",
      "num_var29                        76020 non-null int64\n",
      "num_var30_0                      76020 non-null int64\n",
      "num_var30                        76020 non-null int64\n",
      "num_var31_0                      76020 non-null int64\n",
      "num_var31                        76020 non-null int64\n",
      "num_var32_0                      76020 non-null int64\n",
      "num_var32                        76020 non-null int64\n",
      "num_var33_0                      76020 non-null int64\n",
      "num_var33                        76020 non-null int64\n",
      "num_var34_0                      76020 non-null int64\n",
      "num_var34                        76020 non-null int64\n",
      "num_var35                        76020 non-null int64\n",
      "num_var37_med_ult2               76020 non-null int64\n",
      "num_var37_0                      76020 non-null int64\n",
      "num_var37                        76020 non-null int64\n",
      "num_var39_0                      76020 non-null int64\n",
      "num_var40_0                      76020 non-null int64\n",
      "num_var40                        76020 non-null int64\n",
      "num_var41_0                      76020 non-null int64\n",
      "num_var41                        76020 non-null int64\n",
      "num_var39                        76020 non-null int64\n",
      "num_var42_0                      76020 non-null int64\n",
      "num_var42                        76020 non-null int64\n",
      "num_var44_0                      76020 non-null int64\n",
      "num_var44                        76020 non-null int64\n",
      "num_var46_0                      76020 non-null int64\n",
      "num_var46                        76020 non-null int64\n",
      "saldo_var1                       76020 non-null float64\n",
      "saldo_var5                       76020 non-null float64\n",
      "saldo_var6                       76020 non-null float64\n",
      "saldo_var8                       76020 non-null float64\n",
      "saldo_var12                      76020 non-null float64\n",
      "saldo_var13_corto                76020 non-null float64\n",
      "saldo_var13_largo                76020 non-null float64\n",
      "saldo_var13_medio                76020 non-null int64\n",
      "saldo_var13                      76020 non-null float64\n",
      "saldo_var14                      76020 non-null float64\n",
      "saldo_var17                      76020 non-null float64\n",
      "saldo_var18                      76020 non-null int64\n",
      "saldo_var20                      76020 non-null float64\n",
      "saldo_var24                      76020 non-null float64\n",
      "saldo_var26                      76020 non-null float64\n",
      "saldo_var25                      76020 non-null float64\n",
      "saldo_var28                      76020 non-null int64\n",
      "saldo_var27                      76020 non-null int64\n",
      "saldo_var29                      76020 non-null float64\n",
      "saldo_var30                      76020 non-null float64\n",
      "saldo_var31                      76020 non-null float64\n",
      "saldo_var32                      76020 non-null float64\n",
      "saldo_var33                      76020 non-null float64\n",
      "saldo_var34                      76020 non-null int64\n",
      "saldo_var37                      76020 non-null float64\n",
      "saldo_var40                      76020 non-null float64\n",
      "saldo_var41                      76020 non-null int64\n",
      "saldo_var42                      76020 non-null float64\n",
      "saldo_var44                      76020 non-null float64\n",
      "saldo_var46                      76020 non-null int64\n",
      "var36                            76020 non-null int64\n",
      "delta_imp_amort_var18_1y3        76020 non-null int64\n",
      "delta_imp_amort_var34_1y3        76020 non-null int64\n",
      "delta_imp_aport_var13_1y3        76020 non-null float64\n",
      "delta_imp_aport_var17_1y3        76020 non-null float64\n",
      "delta_imp_aport_var33_1y3        76020 non-null float64\n",
      "delta_imp_compra_var44_1y3       76020 non-null float64\n",
      "delta_imp_reemb_var13_1y3        76020 non-null int64\n",
      "delta_imp_reemb_var17_1y3        76020 non-null int64\n",
      "delta_imp_reemb_var33_1y3        76020 non-null int64\n",
      "delta_imp_trasp_var17_in_1y3     76020 non-null int64\n",
      "delta_imp_trasp_var17_out_1y3    76020 non-null int64\n",
      "delta_imp_trasp_var33_in_1y3     76020 non-null int64\n",
      "delta_imp_trasp_var33_out_1y3    76020 non-null int64\n",
      "delta_imp_venta_var44_1y3        76020 non-null float64\n",
      "delta_num_aport_var13_1y3        76020 non-null float64\n",
      "delta_num_aport_var17_1y3        76020 non-null float64\n",
      "delta_num_aport_var33_1y3        76020 non-null float64\n",
      "delta_num_compra_var44_1y3       76020 non-null float64\n",
      "delta_num_reemb_var13_1y3        76020 non-null int64\n",
      "delta_num_reemb_var17_1y3        76020 non-null int64\n",
      "delta_num_reemb_var33_1y3        76020 non-null int64\n",
      "delta_num_trasp_var17_in_1y3     76020 non-null int64\n",
      "delta_num_trasp_var17_out_1y3    76020 non-null int64\n",
      "delta_num_trasp_var33_in_1y3     76020 non-null int64\n",
      "delta_num_trasp_var33_out_1y3    76020 non-null int64\n",
      "delta_num_venta_var44_1y3        76020 non-null float64\n",
      "imp_amort_var18_hace3            76020 non-null int64\n",
      "imp_amort_var18_ult1             76020 non-null float64\n",
      "imp_amort_var34_hace3            76020 non-null int64\n",
      "imp_amort_var34_ult1             76020 non-null float64\n",
      "imp_aport_var13_hace3            76020 non-null float64\n",
      "imp_aport_var13_ult1             76020 non-null float64\n",
      "imp_aport_var17_hace3            76020 non-null float64\n",
      "imp_aport_var17_ult1             76020 non-null float64\n",
      "imp_aport_var33_hace3            76020 non-null int64\n",
      "imp_aport_var33_ult1             76020 non-null int64\n",
      "imp_var7_emit_ult1               76020 non-null float64\n",
      "imp_var7_recib_ult1              76020 non-null float64\n",
      "imp_compra_var44_hace3           76020 non-null float64\n",
      "imp_compra_var44_ult1            76020 non-null float64\n",
      "imp_reemb_var13_hace3            76020 non-null int64\n",
      "imp_reemb_var13_ult1             76020 non-null float64\n",
      "imp_reemb_var17_hace3            76020 non-null float64\n",
      "imp_reemb_var17_ult1             76020 non-null float64\n",
      "imp_reemb_var33_hace3            76020 non-null int64\n",
      "imp_reemb_var33_ult1             76020 non-null int64\n",
      "imp_var43_emit_ult1              76020 non-null float64\n",
      "imp_trans_var37_ult1             76020 non-null float64\n",
      "imp_trasp_var17_in_hace3         76020 non-null float64\n",
      "imp_trasp_var17_in_ult1          76020 non-null float64\n",
      "imp_trasp_var17_out_hace3        76020 non-null int64\n",
      "imp_trasp_var17_out_ult1         76020 non-null float64\n",
      "imp_trasp_var33_in_hace3         76020 non-null float64\n",
      "imp_trasp_var33_in_ult1          76020 non-null float64\n",
      "imp_trasp_var33_out_hace3        76020 non-null int64\n",
      "imp_trasp_var33_out_ult1         76020 non-null int64\n",
      "imp_venta_var44_hace3            76020 non-null float64\n",
      "imp_venta_var44_ult1             76020 non-null float64\n",
      "ind_var7_emit_ult1               76020 non-null int64\n",
      "ind_var7_recib_ult1              76020 non-null int64\n",
      "ind_var10_ult1                   76020 non-null int64\n",
      "ind_var10cte_ult1                76020 non-null int64\n",
      "ind_var9_cte_ult1                76020 non-null int64\n",
      "ind_var9_ult1                    76020 non-null int64\n",
      "ind_var43_emit_ult1              76020 non-null int64\n",
      "ind_var43_recib_ult1             76020 non-null int64\n",
      "var21                            76020 non-null int64\n",
      "num_var2_0_ult1                  76020 non-null int64\n",
      "num_var2_ult1                    76020 non-null int64\n",
      "num_aport_var13_hace3            76020 non-null int64\n",
      "num_aport_var13_ult1             76020 non-null int64\n",
      "num_aport_var17_hace3            76020 non-null int64\n",
      "num_aport_var17_ult1             76020 non-null int64\n",
      "num_aport_var33_hace3            76020 non-null int64\n",
      "num_aport_var33_ult1             76020 non-null int64\n",
      "num_var7_emit_ult1               76020 non-null int64\n",
      "num_var7_recib_ult1              76020 non-null int64\n",
      "num_compra_var44_hace3           76020 non-null int64\n",
      "num_compra_var44_ult1            76020 non-null int64\n",
      "num_ent_var16_ult1               76020 non-null int64\n",
      "num_var22_hace2                  76020 non-null int64\n",
      "num_var22_hace3                  76020 non-null int64\n",
      "num_var22_ult1                   76020 non-null int64\n",
      "num_var22_ult3                   76020 non-null int64\n",
      "num_med_var22_ult3               76020 non-null int64\n",
      "num_med_var45_ult3               76020 non-null int64\n",
      "num_meses_var5_ult3              76020 non-null int64\n",
      "num_meses_var8_ult3              76020 non-null int64\n",
      "num_meses_var12_ult3             76020 non-null int64\n",
      "num_meses_var13_corto_ult3       76020 non-null int64\n",
      "num_meses_var13_largo_ult3       76020 non-null int64\n",
      "num_meses_var13_medio_ult3       76020 non-null int64\n",
      "num_meses_var17_ult3             76020 non-null int64\n",
      "num_meses_var29_ult3             76020 non-null int64\n",
      "num_meses_var33_ult3             76020 non-null int64\n",
      "num_meses_var39_vig_ult3         76020 non-null int64\n",
      "num_meses_var44_ult3             76020 non-null int64\n",
      "num_op_var39_comer_ult1          76020 non-null int64\n",
      "num_op_var39_comer_ult3          76020 non-null int64\n",
      "num_op_var40_comer_ult1          76020 non-null int64\n",
      "num_op_var40_comer_ult3          76020 non-null int64\n",
      "num_op_var40_efect_ult1          76020 non-null int64\n",
      "num_op_var40_efect_ult3          76020 non-null int64\n",
      "num_op_var41_comer_ult1          76020 non-null int64\n",
      "num_op_var41_comer_ult3          76020 non-null int64\n",
      "num_op_var41_efect_ult1          76020 non-null int64\n",
      "num_op_var41_efect_ult3          76020 non-null int64\n",
      "num_op_var39_efect_ult1          76020 non-null int64\n",
      "num_op_var39_efect_ult3          76020 non-null int64\n",
      "num_reemb_var13_hace3            76020 non-null int64\n",
      "num_reemb_var13_ult1             76020 non-null int64\n",
      "num_reemb_var17_hace3            76020 non-null int64\n",
      "num_reemb_var17_ult1             76020 non-null int64\n",
      "num_reemb_var33_hace3            76020 non-null int64\n",
      "num_reemb_var33_ult1             76020 non-null int64\n",
      "num_sal_var16_ult1               76020 non-null int64\n",
      "num_var43_emit_ult1              76020 non-null int64\n",
      "num_var43_recib_ult1             76020 non-null int64\n",
      "num_trasp_var11_ult1             76020 non-null int64\n",
      "num_trasp_var17_in_hace3         76020 non-null int64\n",
      "num_trasp_var17_in_ult1          76020 non-null int64\n",
      "num_trasp_var17_out_hace3        76020 non-null int64\n",
      "num_trasp_var17_out_ult1         76020 non-null int64\n",
      "num_trasp_var33_in_hace3         76020 non-null int64\n",
      "num_trasp_var33_in_ult1          76020 non-null int64\n",
      "num_trasp_var33_out_hace3        76020 non-null int64\n",
      "num_trasp_var33_out_ult1         76020 non-null int64\n",
      "num_venta_var44_hace3            76020 non-null int64\n",
      "num_venta_var44_ult1             76020 non-null int64\n",
      "num_var45_hace2                  76020 non-null int64\n",
      "num_var45_hace3                  76020 non-null int64\n",
      "num_var45_ult1                   76020 non-null int64\n",
      "num_var45_ult3                   76020 non-null int64\n",
      "saldo_var2_ult1                  76020 non-null int64\n",
      "saldo_medio_var5_hace2           76020 non-null float64\n",
      "saldo_medio_var5_hace3           76020 non-null float64\n",
      "saldo_medio_var5_ult1            76020 non-null float64\n",
      "saldo_medio_var5_ult3            76020 non-null float64\n",
      "saldo_medio_var8_hace2           76020 non-null float64\n",
      "saldo_medio_var8_hace3           76020 non-null float64\n",
      "saldo_medio_var8_ult1            76020 non-null float64\n",
      "saldo_medio_var8_ult3            76020 non-null float64\n",
      "saldo_medio_var12_hace2          76020 non-null float64\n",
      "saldo_medio_var12_hace3          76020 non-null float64\n",
      "saldo_medio_var12_ult1           76020 non-null float64\n",
      "saldo_medio_var12_ult3           76020 non-null float64\n",
      "saldo_medio_var13_corto_hace2    76020 non-null float64\n",
      "saldo_medio_var13_corto_hace3    76020 non-null float64\n",
      "saldo_medio_var13_corto_ult1     76020 non-null float64\n",
      "saldo_medio_var13_corto_ult3     76020 non-null float64\n",
      "saldo_medio_var13_largo_hace2    76020 non-null float64\n",
      "saldo_medio_var13_largo_hace3    76020 non-null float64\n",
      "saldo_medio_var13_largo_ult1     76020 non-null float64\n",
      "saldo_medio_var13_largo_ult3     76020 non-null float64\n",
      "saldo_medio_var13_medio_hace2    76020 non-null float64\n",
      "saldo_medio_var13_medio_hace3    76020 non-null int64\n",
      "saldo_medio_var13_medio_ult1     76020 non-null int64\n",
      "saldo_medio_var13_medio_ult3     76020 non-null float64\n",
      "saldo_medio_var17_hace2          76020 non-null float64\n",
      "saldo_medio_var17_hace3          76020 non-null float64\n",
      "saldo_medio_var17_ult1           76020 non-null float64\n",
      "saldo_medio_var17_ult3           76020 non-null float64\n",
      "saldo_medio_var29_hace2          76020 non-null float64\n",
      "saldo_medio_var29_hace3          76020 non-null float64\n",
      "saldo_medio_var29_ult1           76020 non-null float64\n",
      "saldo_medio_var29_ult3           76020 non-null float64\n",
      "saldo_medio_var33_hace2          76020 non-null float64\n",
      "saldo_medio_var33_hace3          76020 non-null float64\n",
      "saldo_medio_var33_ult1           76020 non-null float64\n",
      "saldo_medio_var33_ult3           76020 non-null float64\n",
      "saldo_medio_var44_hace2          76020 non-null float64\n",
      "saldo_medio_var44_hace3          76020 non-null float64\n",
      "saldo_medio_var44_ult1           76020 non-null float64\n",
      "saldo_medio_var44_ult3           76020 non-null float64\n",
      "var38                            76020 non-null float64\n",
      "is_test                          76020 non-null bool\n",
      "dtypes: bool(1), float64(111), int64(258)\n",
      "memory usage: 214.7 MB\n"
     ]
    }
   ],
   "source": [
    "train.info(verbose=False, memory_usage=True, null_counts=True) # выводим список всех фичей"
   ]
  },
  {
   "cell_type": "code",
   "execution_count": 8,
   "metadata": {},
   "outputs": [
    {
     "data": {
      "text/plain": [
       "(76020, 369)"
      ]
     },
     "execution_count": 8,
     "metadata": {},
     "output_type": "execute_result"
    }
   ],
   "source": [
    "# Разделим снова all_data на train и test по ранее сделанным меткам\n",
    "train = all_data[~all_data.is_test].drop(['is_test'], axis=1)\n",
    "test = all_data[all_data.is_test].drop(['is_test'], axis=1)\n",
    "train.shape"
   ]
  },
  {
   "cell_type": "code",
   "execution_count": 9,
   "metadata": {
    "collapsed": true
   },
   "outputs": [],
   "source": [
    "# Разобьем наш train датасет на train X_train и X_test\n",
    "X_train, X_test, y_train, y_test = train_test_split(train, y, test_size=0.33, random_state=42)"
   ]
  },
  {
   "cell_type": "markdown",
   "metadata": {},
   "source": [
    "# Вспомогательные функции"
   ]
  },
  {
   "cell_type": "code",
   "execution_count": 10,
   "metadata": {
    "collapsed": true
   },
   "outputs": [],
   "source": [
    "def draw_hist(_y, result_predicts, xlim=(-1, 15), ylim=(-0.01, 1.01), size=(5,10)):\n",
    "    steps = []\n",
    "    scores = []\n",
    "    for data in result_predicts:\n",
    "        predict_prob, step = data\n",
    "        score = roc_auc_score(_y, predict_prob[:,1])\n",
    "        steps.append(step)\n",
    "        scores.append(score)\n",
    "    \n",
    "    plt.figure(figsize=size)\n",
    "    plt.xlim(xlim)\n",
    "    plt.ylim(ylim)\n",
    "    plt.xlabel(\"steps\")\n",
    "    plt.ylabel(\"ROC_AUC\")\n",
    "    plt.bar(steps, scores)"
   ]
  },
  {
   "cell_type": "code",
   "execution_count": 11,
   "metadata": {
    "collapsed": true
   },
   "outputs": [],
   "source": [
    "def cal_predict(x_train, y_train, x_test, blackbox):\n",
    "    \"\"\"\n",
    "    Строим модель прогнозирования\n",
    "    \n",
    "    @return predict, predict_proba \n",
    "    \"\"\"\n",
    "    model = blackbox # у квалификатора есть своё случайное значение.\n",
    "    model.fit(x_train, y_train)\n",
    "    predict = model.predict(x_test)\n",
    "    predict_proba = model.predict_proba(x_test)\n",
    "    return predict, predict_proba"
   ]
  },
  {
   "cell_type": "code",
   "execution_count": 12,
   "metadata": {
    "collapsed": true
   },
   "outputs": [],
   "source": [
    "def draw_roc_auc_multy(y_test, result_predicts):\n",
    "    plt.figure(figsize=(5, 10))\n",
    "    plt.plot([0, 1], [0, 1])\n",
    "    plt.ylabel('tpr')\n",
    "    plt.xlabel('fpr')\n",
    "    plt.grid(True)\n",
    "    plt.xlim((-0.01, 1.01))\n",
    "    plt.ylim((-0.01, 1.01))\n",
    "    for data in result_predicts:\n",
    "        predict_prob, depth = data\n",
    "        score = roc_auc_score(y_test, predict_prob[:,1])\n",
    "        fpr, tpr, thresholds = roc_curve(y_test, predict_prob[:,1])\n",
    "        plt.plot(fpr, tpr, label=f'ROC {score:.3f} {depth}')\n",
    "    plt.legend( borderaxespad=0.)"
   ]
  },
  {
   "cell_type": "markdown",
   "metadata": {},
   "source": [
    "# Строим DecisionTreeClassifier"
   ]
  },
  {
   "cell_type": "code",
   "execution_count": 13,
   "metadata": {},
   "outputs": [
    {
     "data": {
      "text/plain": [
       "DecisionTreeClassifier(class_weight=None, criterion='gini', max_depth=5,\n",
       "            max_features=None, max_leaf_nodes=None,\n",
       "            min_impurity_split=1e-07, min_samples_leaf=1,\n",
       "            min_samples_split=2, min_weight_fraction_leaf=0.0,\n",
       "            presort=False, random_state=None, splitter='best')"
      ]
     },
     "execution_count": 13,
     "metadata": {},
     "output_type": "execute_result"
    }
   ],
   "source": [
    "dtc = DecisionTreeClassifier(max_depth=5)\n",
    "dtc.fit(X_train, y_train)"
   ]
  },
  {
   "cell_type": "code",
   "execution_count": 14,
   "metadata": {},
   "outputs": [
    {
     "name": "stderr",
     "output_type": "stream",
     "text": [
      "100%|████████████████████████████████████████████| 7/7 [00:12<00:00,  1.76s/it]\n"
     ]
    }
   ],
   "source": [
    "predict_probs=[]\n",
    "for depth in tqdm(range(1,15,2)):\n",
    "    blackbox = DecisionTreeClassifier(max_depth=depth, random_state=42)\n",
    "    predict, predict_prob = cal_predict(\n",
    "        x_train=X_train,\n",
    "        x_test=X_test,\n",
    "        y_train=y_train,\n",
    "        blackbox=blackbox\n",
    "    )\n",
    "    predict_probs.append((predict_prob, depth))"
   ]
  },
  {
   "cell_type": "code",
   "execution_count": 15,
   "metadata": {},
   "outputs": [
    {
     "data": {
      "image/png": "[encoded data removed]",
      "text/plain": [
       "<matplotlib.figure.Figure at 0x19961d7e668>"
      ]
     },
     "metadata": {},
     "output_type": "display_data"
    }
   ],
   "source": [
    "draw_roc_auc_multy(y_test, predict_probs)"
   ]
  },
  {
   "cell_type": "code",
   "execution_count": 16,
   "metadata": {},
   "outputs": [
    {
     "data": {
      "text/plain": [
       "KNeighborsClassifier(algorithm='auto', leaf_size=30, metric='minkowski',\n",
       "           metric_params=None, n_jobs=1, n_neighbors=1, p=2,\n",
       "           weights='uniform')"
      ]
     },
     "execution_count": 16,
     "metadata": {},
     "output_type": "execute_result"
    }
   ],
   "source": [
    "knn = KNeighborsClassifier(n_neighbors=1)\n",
    "knn.fit(X_train, y_train)"
   ]
  },
  {
   "cell_type": "code",
   "execution_count": 17,
   "metadata": {},
   "outputs": [
    {
     "data": {
      "text/plain": [
       "LogisticRegression(C=1.0, class_weight=None, dual=False, fit_intercept=True,\n",
       "          intercept_scaling=1, max_iter=100, multi_class='ovr', n_jobs=1,\n",
       "          penalty='l2', random_state=None, solver='liblinear', tol=0.0001,\n",
       "          verbose=0, warm_start=False)"
      ]
     },
     "execution_count": 17,
     "metadata": {},
     "output_type": "execute_result"
    }
   ],
   "source": [
    "lr = LogisticRegression()\n",
    "lr.fit(X_train, y_train)"
   ]
  },
  {
   "cell_type": "code",
   "execution_count": null,
   "metadata": {
    "collapsed": true
   },
   "outputs": [],
   "source": []
  },
  {
   "cell_type": "code",
   "execution_count": null,
   "metadata": {
    "collapsed": true
   },
   "outputs": [],
   "source": []
  },
  {
   "cell_type": "code",
   "execution_count": null,
   "metadata": {
    "collapsed": true
   },
   "outputs": [],
   "source": []
  },
  {
   "cell_type": "code",
   "execution_count": null,
   "metadata": {
    "collapsed": true
   },
   "outputs": [],
   "source": []
  },
  {
   "cell_type": "code",
   "execution_count": null,
   "metadata": {
    "collapsed": true
   },
   "outputs": [],
   "source": []
  },
  {
   "cell_type": "code",
   "execution_count": null,
   "metadata": {
    "collapsed": true
   },
   "outputs": [],
   "source": []
  },
  {
   "cell_type": "code",
   "execution_count": 18,
   "metadata": {},
   "outputs": [
    {
     "data": {
      "text/plain": [
       "0.79758999655598939"
      ]
     },
     "execution_count": 18,
     "metadata": {},
     "output_type": "execute_result"
    }
   ],
   "source": [
    "roc_auc_score(y_test, dtc.predict_proba(X_test)[:,1])"
   ]
  },
  {
   "cell_type": "code",
   "execution_count": 19,
   "metadata": {},
   "outputs": [
    {
     "data": {
      "text/plain": [
       "0.59791750840566427"
      ]
     },
     "execution_count": 19,
     "metadata": {},
     "output_type": "execute_result"
    }
   ],
   "source": [
    "roc_auc_score(y_test, lr.predict_proba(X_test)[:,1])"
   ]
  },
  {
   "cell_type": "code",
   "execution_count": 20,
   "metadata": {},
   "outputs": [
    {
     "data": {
      "text/plain": [
       "0.53160087115379717"
      ]
     },
     "execution_count": 20,
     "metadata": {},
     "output_type": "execute_result"
    }
   ],
   "source": [
    "roc_auc_score(y_test, knn.predict_proba(X_test)[:,1])"
   ]
  },
  {
   "cell_type": "markdown",
   "metadata": {},
   "source": [
    "https://www.kaggle.com/cast42/exploring-features"
   ]
  },
  {
   "cell_type": "code",
   "execution_count": null,
   "metadata": {
    "collapsed": true
   },
   "outputs": [],
   "source": []
  }
 ],
 "metadata": {
  "kernelspec": {
   "display_name": "Python 3",
   "language": "python",
   "name": "python3"
  },
  "language_info": {
   "codemirror_mode": {
    "name": "ipython",
    "version": 3
   },
   "file_extension": ".py",
   "mimetype": "text/x-python",
   "name": "python",
   "nbconvert_exporter": "python",
   "pygments_lexer": "ipython3",
   "version": "3.6.1"
  }
 },
 "nbformat": 4,
 "nbformat_minor": 2
}
