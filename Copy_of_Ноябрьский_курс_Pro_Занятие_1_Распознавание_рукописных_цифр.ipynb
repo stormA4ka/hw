{
  "nbformat": 4,
  "nbformat_minor": 0,
  "metadata": {
    "colab": {
      "name": "Copy of Ноябрьский курс. Pro. Занятие 1. Распознавание рукописных цифр",
      "provenance": [],
      "collapsed_sections": [
        "8OsyUFVULEkG"
      ],
      "include_colab_link": true
    },
    "kernelspec": {
      "name": "python3",
      "display_name": "Python 3"
    },
    "accelerator": "GPU"
  },
  "cells": [
    {
      "cell_type": "markdown",
      "metadata": {
        "id": "view-in-github",
        "colab_type": "text"
      },
      "source": [
        "<a href=\"https://colab.research.google.com/github/stormA4ka/hw/blob/master/Copy_of_%D0%9D%D0%BE%D1%8F%D0%B1%D1%80%D1%8C%D1%81%D0%BA%D0%B8%D0%B9_%D0%BA%D1%83%D1%80%D1%81_Pro_%D0%97%D0%B0%D0%BD%D1%8F%D1%82%D0%B8%D0%B5_1_%D0%A0%D0%B0%D1%81%D0%BF%D0%BE%D0%B7%D0%BD%D0%B0%D0%B2%D0%B0%D0%BD%D0%B8%D0%B5_%D1%80%D1%83%D0%BA%D0%BE%D0%BF%D0%B8%D1%81%D0%BD%D1%8B%D1%85_%D1%86%D0%B8%D1%84%D1%80.ipynb\" target=\"_parent\"><img src=\"https://colab.research.google.com/assets/colab-badge.svg\" alt=\"Open In Colab\"/></a>"
      ]
    },
    {
      "cell_type": "markdown",
      "metadata": {
        "id": "Ah7dy1kFL2H9",
        "colab_type": "text"
      },
      "source": [
        "# Распознавание рукописных цифр из набора данных MNIST с помощью Keras\n",
        "\n",
        "Чтобы запускать и редактировать код, сохраните копию этого ноутбука себе (File->Save a copy in Drive...). Свою копию вы сможете изменять и запускать."
      ]
    },
    {
      "cell_type": "code",
      "metadata": {
        "id": "qrfd6FzSLrE2",
        "colab_type": "code",
        "outputId": "d8288a2d-0d52-4da4-de0d-85f99f40f230",
        "colab": {
          "base_uri": "https://localhost:8080/",
          "height": 63
        }
      },
      "source": [
        "from tensorflow.keras.datasets import mnist #Библиотека с базой Mnist\n",
        "from tensorflow.keras.models import Sequential #НС прямого распространения\n",
        "from tensorflow.keras.layers import Dense #Полносвязные слой\n",
        "from tensorflow.keras import utils #Утилиты для to_categorical\n",
        "from tensorflow.keras.preprocessing import image #Для отрисовки изображения\n",
        "from google.colab import files #Для загрузки своей картинки\n",
        "import numpy as np #Библиотека работы с массивами\n",
        "import matplotlib.pyplot as plt #Отрисовка изображений\n",
        "from PIL import Image #Отрисовка изображений\n",
        "#Отрисовывать изображения в ноутбуке, а не в консоль или файл\n",
        "%matplotlib inline "
      ],
      "execution_count": 1,
      "outputs": [
        {
          "output_type": "display_data",
          "data": {
            "text/html": [
              "<p style=\"color: red;\">\n",
              "The default version of TensorFlow in Colab will soon switch to TensorFlow 2.x.<br>\n",
              "We recommend you <a href=\"https://www.tensorflow.org/guide/migrate\" target=\"_blank\">upgrade</a> now \n",
              "or ensure your notebook will continue to use TensorFlow 1.x via the <code>%tensorflow_version 1.x</code> magic:\n",
              "<a href=\"https://colab.research.google.com/notebooks/tensorflow_version.ipynb\" target=\"_blank\">more info</a>.</p>\n"
            ],
            "text/plain": [
              "<IPython.core.display.HTML object>"
            ]
          },
          "metadata": {
            "tags": []
          }
        }
      ]
    },
    {
      "cell_type": "markdown",
      "metadata": {
        "id": "xiurjCBVMDTG",
        "colab_type": "text"
      },
      "source": [
        "## Подготовка данных для обучения сети"
      ]
    },
    {
      "cell_type": "markdown",
      "metadata": {
        "id": "1yDF75Cx8VPz",
        "colab_type": "text"
      },
      "source": [
        "**Загружаем набор данных с рукописными цифрами**"
      ]
    },
    {
      "cell_type": "code",
      "metadata": {
        "id": "E5L3LUIi8PDV",
        "colab_type": "code",
        "colab": {
          "base_uri": "https://localhost:8080/",
          "height": 51
        },
        "outputId": "50f38b23-64a1-4ffe-a706-54fd0155e3b3"
      },
      "source": [
        "#Загрузка данных Mnist\n",
        "#x_train_org - входные картинки, обучающая выбрка\n",
        "#y_train_org - выходные индексы, обучающая выборка\n",
        "#x_test_org - входные картинки, тестовая выбрка\n",
        "#y_test_org - выходные индексы, тестовая выборка\n",
        "(x_train_org, y_train_org), (x_test_org, y_test_org) = mnist.load_data()"
      ],
      "execution_count": 2,
      "outputs": [
        {
          "output_type": "stream",
          "text": [
            "Downloading data from https://storage.googleapis.com/tensorflow/tf-keras-datasets/mnist.npz\n",
            "11493376/11490434 [==============================] - 0s 0us/step\n"
          ],
          "name": "stdout"
        }
      ]
    },
    {
      "cell_type": "code",
      "metadata": {
        "id": "ga0DtPJQVkEh",
        "colab_type": "code",
        "outputId": "06c6f36b-4ab0-4545-db89-a6fb57d9b7f8",
        "colab": {
          "base_uri": "https://localhost:8080/",
          "height": 265
        }
      },
      "source": [
        "n = 55 #Номер картинки\n",
        "\n",
        "#Отрисовка картинки\n",
        "#Image.fromarray - создание картинки по массиву\n",
        "#.convert('RGBA') - преобразование в RGBA формат\n",
        "plt.imshow(Image.fromarray(x_train_org[n]).convert('RGBA'))\n",
        "plt.show()"
      ],
      "execution_count": 6,
      "outputs": [
        {
          "output_type": "display_data",
          "data": {
            "image/png": "[encoded data removed]",
            "text/plain": [
              "<Figure size 432x288 with 1 Axes>"
            ]
          },
          "metadata": {
            "tags": []
          }
        }
      ]
    },
    {
      "cell_type": "markdown",
      "metadata": {
        "id": "7uXTnIojJLbl",
        "colab_type": "text"
      },
      "source": [
        "**Преобразование размерности данных в наборе**"
      ]
    },
    {
      "cell_type": "code",
      "metadata": {
        "id": "GBAqLKjGJJ-V",
        "colab_type": "code",
        "colab": {}
      },
      "source": [
        "#Меняем формат входных картинок с 28х28 на 784х1\n",
        "#Это нужно для удобства работы с полносвязным слоем (Dense)\n",
        "#С двумерной картинкой мы будем работать в будущем с помощью свёрточных сетей\n",
        "#Функция .reshape меняет размер массива\n",
        "x_train = x_train_org.reshape(60000, 784)\n",
        "x_test = x_test_org.reshape(10000, 784)"
      ],
      "execution_count": 0,
      "outputs": []
    },
    {
      "cell_type": "markdown",
      "metadata": {
        "id": "hDaHO5LgJYxU",
        "colab_type": "text"
      },
      "source": [
        "**Нормализация данных**"
      ]
    },
    {
      "cell_type": "code",
      "metadata": {
        "id": "rscaAuBNJdq9",
        "colab_type": "code",
        "colab": {}
      },
      "source": [
        "#Нормализуем входные картинки\n",
        "#НС лучше работают, если данные нормаваны от 0 до 1\n",
        "#Сейчас значения во входных картинках от 0 до 255\n",
        "#Надо разделить картинки на 255\n",
        "#И сначала преобразовать картинки в тип float (цифры с плавающей точкой)\n",
        "x_train = x_train.astype('float32') / 255\n",
        "#x_train = x_train / 255\n",
        "x_test = x_test.astype('float32') / 255\n",
        "#x_test = x_test / 255"
      ],
      "execution_count": 0,
      "outputs": []
    },
    {
      "cell_type": "markdown",
      "metadata": {
        "id": "KRcMlNzqJk1t",
        "colab_type": "text"
      },
      "source": [
        "**Работа с правильными ответами**"
      ]
    },
    {
      "cell_type": "code",
      "metadata": {
        "id": "A5lKe_syJqPu",
        "colab_type": "code",
        "outputId": "06e29a47-2c11-425b-ae45-b5a089dc36c3",
        "colab": {
          "base_uri": "https://localhost:8080/",
          "height": 34
        }
      },
      "source": [
        "#Выводим пример индекса в выходных данных\n",
        "print(y_train_org[n])"
      ],
      "execution_count": 16,
      "outputs": [
        {
          "output_type": "stream",
          "text": [
            "8\n"
          ],
          "name": "stdout"
        }
      ]
    },
    {
      "cell_type": "markdown",
      "metadata": {
        "id": "zqJ9GA1kJxBF",
        "colab_type": "text"
      },
      "source": [
        "**Преобразуем метки в формат one hot encoding**"
      ]
    },
    {
      "cell_type": "code",
      "metadata": {
        "id": "zQnasUyyJ3cG",
        "colab_type": "code",
        "colab": {}
      },
      "source": [
        "#НС сложно работать с чистыми индексами от 0 до 9\n",
        "#Ей проще работать с данными в формате one hot encoding\n",
        "#Это формат из 10 цифр - все 0 и одна 1 там, где правильный ответ\n",
        "#Например\n",
        "#Индекс 0 - это [1 0 0 0 0 0 0 0 0 0]\n",
        "#Индекс 2 - это [0 0 1 0 0 0 0 0 0 0]\n",
        "#Индекс 9 - это [0 0 0 0 0 0 0 0 0 1]\n",
        "#Это делается функцией utils.to_categorical()\n",
        "#Второй параметр - это количество классов, у нас - 10\n",
        "y_train = utils.to_categorical(y_train_org, 10)\n",
        "y_test = utils.to_categorical(y_test_org, 10)"
      ],
      "execution_count": 0,
      "outputs": []
    },
    {
      "cell_type": "markdown",
      "metadata": {
        "id": "KfuqlyjHJ_ye",
        "colab_type": "text"
      },
      "source": [
        "**Правильный ответ в формате one hot encoding**"
      ]
    },
    {
      "cell_type": "code",
      "metadata": {
        "id": "9zUfd1aeKH3e",
        "colab_type": "code",
        "outputId": "70fff486-8489-454b-beb4-1cf9ce3bebde",
        "colab": {
          "base_uri": "https://localhost:8080/",
          "height": 34
        }
      },
      "source": [
        "#Выводим размер y_train\n",
        "#60 тысяч примеров, каждый размера 10 (так как 10 классов)\n",
        "print(y_train.shape)"
      ],
      "execution_count": 22,
      "outputs": [
        {
          "output_type": "stream",
          "text": [
            "(60000, 10)\n"
          ],
          "name": "stdout"
        }
      ]
    },
    {
      "cell_type": "code",
      "metadata": {
        "id": "KWYwnS5giydM",
        "colab_type": "code",
        "outputId": "cf6643f2-6a66-45d5-9f61-4dae0ac8951e",
        "colab": {
          "base_uri": "https://localhost:8080/",
          "height": 34
        }
      },
      "source": [
        "#Выводим пример одного выходного вектора\n",
        "print(y_train[n])"
      ],
      "execution_count": 23,
      "outputs": [
        {
          "output_type": "stream",
          "text": [
            "[0. 0. 0. 0. 0. 0. 0. 0. 1. 0.]\n"
          ],
          "name": "stdout"
        }
      ]
    },
    {
      "cell_type": "markdown",
      "metadata": {
        "id": "BmTr_lXTKNbN",
        "colab_type": "text"
      },
      "source": [
        "## Создаем нейронную сеть"
      ]
    },
    {
      "cell_type": "markdown",
      "metadata": {
        "id": "fV_igNZuMNXe",
        "colab_type": "text"
      },
      "source": [
        "**Создаем последовательную модель**"
      ]
    },
    {
      "cell_type": "code",
      "metadata": {
        "id": "D-jPYYxIKQkt",
        "colab_type": "code",
        "colab": {}
      },
      "source": [
        "#Создаём сеть прямого распространения\n",
        "#Пока она пустая\n",
        "#Подробнее на https://keras.io/models/sequential/\n",
        "model = Sequential()"
      ],
      "execution_count": 0,
      "outputs": []
    },
    {
      "cell_type": "markdown",
      "metadata": {
        "id": "Q3QzIVtBMQRG",
        "colab_type": "text"
      },
      "source": [
        "**Добавляем уровни сети**\n"
      ]
    },
    {
      "cell_type": "code",
      "metadata": {
        "id": "kYVSvpNIMSnG",
        "colab_type": "code",
        "colab": {}
      },
      "source": [
        "#Добавляем в сеть полносвязные слои\n",
        "#Dense - полносвязный слой, подробнее на https://keras.io/layers/core/\n",
        "#Первый парамерт - количество нейронок, обычно от 2 до 2000, подбирается в ходе исследования\n",
        "#input_dim - размер входного вектора, указывается только в первом слое сети\n",
        "#activation - активационная функция нейронов данного слоя\n",
        "#relu - одна из активационных функций, подробнее на https://keras.io/activations/\n",
        "model.add(Dense(800, input_dim=784, activation=\"relu\"))\n",
        "model.add(Dense(400, activation=\"relu\"))\n",
        "\n",
        "#Выходной полносвязный слой, 10 нейронов (по количеству рукописных цифр)\n",
        "#activation=\"softmax\" - активационная функция, \n",
        "#которая делает сумму всех значений нейронов слой, равной 1\n",
        "#Подробнее https://keras.io/activations/\n",
        "model.add(Dense(10, activation=\"softmax\"))"
      ],
      "execution_count": 0,
      "outputs": []
    },
    {
      "cell_type": "markdown",
      "metadata": {
        "id": "G__m76T-KWhd",
        "colab_type": "text"
      },
      "source": [
        "**Компилируем сеть**"
      ]
    },
    {
      "cell_type": "code",
      "metadata": {
        "id": "PTcbSxchKZjd",
        "colab_type": "code",
        "outputId": "8414f0e0-93f6-46a6-862a-cbd678d3ceb3",
        "colab": {
          "base_uri": "https://localhost:8080/",
          "height": 476
        }
      },
      "source": [
        "#Нейронку надо \"скомпилировать\"\n",
        "#При компиляции мы задаём несколько параметров\n",
        "#loss - функция ошибки, которую оптимизирует сеть\n",
        "#categorical_crossentropy - одна из функций ошибки, подходящая для классификации нескольких классов, подробнее https://keras.io/activations/\n",
        "#optimizer - алгоритм обучения НС\n",
        "#adam - один из алгоритмов обучения НС, подробнее https://keras.io/optimizers/\n",
        "#metrics - метрика качества обучения, измеряется после каждой эпохи обучения\n",
        "#accuracy - метрика, процент правильно распознанных примеров, подробнее https://keras.io/metrics/\n",
        "model.compile(loss=\"categorical_crossentropy\", optimizer=\"adam\", metrics=[\"accuracy\"])\n",
        "\n",
        "#Вывод структуры нейронки\n",
        "print(model.summary())"
      ],
      "execution_count": 29,
      "outputs": [
        {
          "output_type": "stream",
          "text": [
            "Model: \"sequential\"\n",
            "_________________________________________________________________\n",
            "Layer (type)                 Output Shape              Param #   \n",
            "=================================================================\n",
            "dense (Dense)                (None, 800)               628000    \n",
            "_________________________________________________________________\n",
            "dense_1 (Dense)              (None, 400)               320400    \n",
            "_________________________________________________________________\n",
            "dense_2 (Dense)              (None, 10)                4010      \n",
            "_________________________________________________________________\n",
            "dense_3 (Dense)              (None, 800)               8800      \n",
            "_________________________________________________________________\n",
            "dense_4 (Dense)              (None, 400)               320400    \n",
            "_________________________________________________________________\n",
            "dense_5 (Dense)              (None, 10)                4010      \n",
            "_________________________________________________________________\n",
            "dense_6 (Dense)              (None, 800)               8800      \n",
            "_________________________________________________________________\n",
            "dense_7 (Dense)              (None, 400)               320400    \n",
            "_________________________________________________________________\n",
            "dense_8 (Dense)              (None, 10)                4010      \n",
            "=================================================================\n",
            "Total params: 1,618,830\n",
            "Trainable params: 1,618,830\n",
            "Non-trainable params: 0\n",
            "_________________________________________________________________\n",
            "None\n"
          ],
          "name": "stdout"
        }
      ]
    },
    {
      "cell_type": "markdown",
      "metadata": {
        "id": "lspCHiaCKl72",
        "colab_type": "text"
      },
      "source": [
        "## Обучаем нейронную сеть"
      ]
    },
    {
      "cell_type": "code",
      "metadata": {
        "id": "H6EIXu1dKoju",
        "colab_type": "code",
        "outputId": "d621dc6a-2a70-48eb-f53a-916c9862d6a2",
        "colab": {
          "base_uri": "https://localhost:8080/",
          "height": 1000
        }
      },
      "source": [
        "#fit - функция обучения нейронки\n",
        "#x_train, y_train - обучающая выборка, входные и выходные данные\n",
        "#batch_size - размер батча, количество примеров, которое обрабатывает нейронка, перед одним изменением весов\n",
        "#epochs - количество эпох, когда нейронка обучается на всех примерах выбрки\n",
        "#verbose - 0 - не визуализировать ход обучения, 1 - визуализировать\n",
        "#validation_split - процент данных, на которых сеть не обучается, на которых мы измеряем точность распознавания\n",
        "model.fit(x_train, y_train, batch_size=128, epochs=30, verbose=1, validation_split=0.2)"
      ],
      "execution_count": 0,
      "outputs": [
        {
          "output_type": "stream",
          "text": [
            "Train on 48000 samples, validate on 12000 samples\n",
            "Epoch 1/30\n",
            "48000/48000 [==============================] - 2s 37us/sample - loss: 0.2741 - acc: 0.9215 - val_loss: 0.1359 - val_acc: 0.9624\n",
            "Epoch 2/30\n",
            "48000/48000 [==============================] - 2s 35us/sample - loss: 0.1082 - acc: 0.9685 - val_loss: 0.1056 - val_acc: 0.9680\n",
            "Epoch 3/30\n",
            "48000/48000 [==============================] - 2s 36us/sample - loss: 0.0678 - acc: 0.9803 - val_loss: 0.0898 - val_acc: 0.9740\n",
            "Epoch 4/30\n",
            "48000/48000 [==============================] - 2s 35us/sample - loss: 0.0481 - acc: 0.9856 - val_loss: 0.0787 - val_acc: 0.9770\n",
            "Epoch 5/30\n",
            "48000/48000 [==============================] - 2s 36us/sample - loss: 0.0334 - acc: 0.9906 - val_loss: 0.0758 - val_acc: 0.9787\n",
            "Epoch 6/30\n",
            "48000/48000 [==============================] - 2s 36us/sample - loss: 0.0232 - acc: 0.9936 - val_loss: 0.0735 - val_acc: 0.9783\n",
            "Epoch 7/30\n",
            "48000/48000 [==============================] - 2s 36us/sample - loss: 0.0170 - acc: 0.9957 - val_loss: 0.0776 - val_acc: 0.9778\n",
            "Epoch 8/30\n",
            "48000/48000 [==============================] - 2s 36us/sample - loss: 0.0129 - acc: 0.9968 - val_loss: 0.0787 - val_acc: 0.9778\n",
            "Epoch 9/30\n",
            "48000/48000 [==============================] - 2s 36us/sample - loss: 0.0092 - acc: 0.9982 - val_loss: 0.0818 - val_acc: 0.9783\n",
            "Epoch 10/30\n",
            "48000/48000 [==============================] - 2s 36us/sample - loss: 0.0081 - acc: 0.9981 - val_loss: 0.0856 - val_acc: 0.9776\n",
            "Epoch 11/30\n",
            "48000/48000 [==============================] - 2s 38us/sample - loss: 0.0081 - acc: 0.9979 - val_loss: 0.0901 - val_acc: 0.9772\n",
            "Epoch 12/30\n",
            "48000/48000 [==============================] - 2s 37us/sample - loss: 0.0079 - acc: 0.9980 - val_loss: 0.0859 - val_acc: 0.9789\n",
            "Epoch 13/30\n",
            "48000/48000 [==============================] - 2s 38us/sample - loss: 0.0087 - acc: 0.9973 - val_loss: 0.0800 - val_acc: 0.9806\n",
            "Epoch 14/30\n",
            "48000/48000 [==============================] - 2s 38us/sample - loss: 0.0059 - acc: 0.9985 - val_loss: 0.0822 - val_acc: 0.9804\n",
            "Epoch 15/30\n",
            "48000/48000 [==============================] - 2s 38us/sample - loss: 0.0033 - acc: 0.9995 - val_loss: 0.0737 - val_acc: 0.9832\n",
            "Epoch 16/30\n",
            "48000/48000 [==============================] - 2s 36us/sample - loss: 7.0572e-04 - acc: 1.0000 - val_loss: 0.0753 - val_acc: 0.9830\n",
            "Epoch 17/30\n",
            "48000/48000 [==============================] - 2s 36us/sample - loss: 4.1250e-04 - acc: 1.0000 - val_loss: 0.0766 - val_acc: 0.9833\n",
            "Epoch 18/30\n",
            "48000/48000 [==============================] - 2s 37us/sample - loss: 3.1326e-04 - acc: 1.0000 - val_loss: 0.0770 - val_acc: 0.9837\n",
            "Epoch 19/30\n",
            "48000/48000 [==============================] - 2s 36us/sample - loss: 2.3748e-04 - acc: 1.0000 - val_loss: 0.0783 - val_acc: 0.9839\n",
            "Epoch 20/30\n",
            "48000/48000 [==============================] - 2s 40us/sample - loss: 2.0554e-04 - acc: 1.0000 - val_loss: 0.0793 - val_acc: 0.9837\n",
            "Epoch 21/30\n",
            "48000/48000 [==============================] - 2s 35us/sample - loss: 1.9331e-04 - acc: 1.0000 - val_loss: 0.0813 - val_acc: 0.9830\n",
            "Epoch 22/30\n",
            "48000/48000 [==============================] - 2s 35us/sample - loss: 0.0289 - acc: 0.9909 - val_loss: 0.0896 - val_acc: 0.9789\n",
            "Epoch 23/30\n",
            "48000/48000 [==============================] - 2s 36us/sample - loss: 0.0071 - acc: 0.9978 - val_loss: 0.0878 - val_acc: 0.9810\n",
            "Epoch 24/30\n",
            "48000/48000 [==============================] - 2s 36us/sample - loss: 0.0015 - acc: 0.9998 - val_loss: 0.0791 - val_acc: 0.9835\n",
            "Epoch 25/30\n",
            "48000/48000 [==============================] - 2s 35us/sample - loss: 3.7049e-04 - acc: 1.0000 - val_loss: 0.0788 - val_acc: 0.9838\n",
            "Epoch 26/30\n",
            "48000/48000 [==============================] - 2s 36us/sample - loss: 2.3312e-04 - acc: 1.0000 - val_loss: 0.0804 - val_acc: 0.9838\n",
            "Epoch 27/30\n",
            "48000/48000 [==============================] - 2s 36us/sample - loss: 2.0829e-04 - acc: 1.0000 - val_loss: 0.0816 - val_acc: 0.9837\n",
            "Epoch 28/30\n",
            "48000/48000 [==============================] - 2s 36us/sample - loss: 1.5993e-04 - acc: 1.0000 - val_loss: 0.0825 - val_acc: 0.9835\n",
            "Epoch 29/30\n",
            "48000/48000 [==============================] - 2s 35us/sample - loss: 1.3111e-04 - acc: 1.0000 - val_loss: 0.0835 - val_acc: 0.9837\n",
            "Epoch 30/30\n",
            "48000/48000 [==============================] - 2s 36us/sample - loss: 1.1096e-04 - acc: 1.0000 - val_loss: 0.0843 - val_acc: 0.9837\n"
          ],
          "name": "stdout"
        },
        {
          "output_type": "execute_result",
          "data": {
            "text/plain": [
              "<tensorflow.python.keras.callbacks.History at 0x7fd3557b3358>"
            ]
          },
          "metadata": {
            "tags": []
          },
          "execution_count": 32
        }
      ]
    },
    {
      "cell_type": "markdown",
      "metadata": {
        "id": "8OsyUFVULEkG",
        "colab_type": "text"
      },
      "source": [
        "## Сохраняем обученную нейронную сеть"
      ]
    },
    {
      "cell_type": "markdown",
      "metadata": {
        "id": "3H4ivOt5H2rm",
        "colab_type": "text"
      },
      "source": [
        "Записываем обученную нейронную сеть в файл `mnist_dense.h5`"
      ]
    },
    {
      "cell_type": "code",
      "metadata": {
        "id": "jCcYrRwfLYg-",
        "colab_type": "code",
        "colab": {}
      },
      "source": [
        "#Сохраняем нейронку в файл\n",
        "model.save(\"mnist_dense.h5\")\n"
      ],
      "execution_count": 0,
      "outputs": []
    },
    {
      "cell_type": "markdown",
      "metadata": {
        "id": "ulInadIzIBj_",
        "colab_type": "text"
      },
      "source": [
        "Проверяем, что файл сохранился"
      ]
    },
    {
      "cell_type": "code",
      "metadata": {
        "id": "DFOL85B1IEgO",
        "colab_type": "code",
        "outputId": "aecfd4d3-ee41-471c-fdcb-27cda6a683c1",
        "colab": {
          "base_uri": "https://localhost:8080/",
          "height": 35
        }
      },
      "source": [
        "#Выводим на экран список текущих файлов\n",
        "!ls"
      ],
      "execution_count": 0,
      "outputs": [
        {
          "output_type": "stream",
          "text": [
            "mnist_dense.h5\tsample_data\n"
          ],
          "name": "stdout"
        }
      ]
    },
    {
      "cell_type": "markdown",
      "metadata": {
        "id": "52MAtyzWGKAC",
        "colab_type": "text"
      },
      "source": [
        "**Сохраняем файлы на локальный компьютер**"
      ]
    },
    {
      "cell_type": "code",
      "metadata": {
        "id": "0etc3S-PGOuy",
        "colab_type": "code",
        "colab": {}
      },
      "source": [
        "#Скачиваем файл локально на компьютер\n",
        "files.download(\"mnist_dense.h5\")"
      ],
      "execution_count": 0,
      "outputs": []
    },
    {
      "cell_type": "markdown",
      "metadata": {
        "id": "pR_nstTJIRTc",
        "colab_type": "text"
      },
      "source": [
        "Если хотите использовать обученную нейронную сеть на своем компьютере:\n",
        "\n",
        "```\n",
        "from keras.models import load_model\n",
        "model = load_model('mnist_dense.h5')\n",
        "```"
      ]
    },
    {
      "cell_type": "markdown",
      "metadata": {
        "id": "7vMx5V5QMYlW",
        "colab_type": "text"
      },
      "source": [
        "## Используем сеть для распознавания рукописных цифр"
      ]
    },
    {
      "cell_type": "code",
      "metadata": {
        "id": "-AGygAcPMd0G",
        "colab_type": "code",
        "colab": {}
      },
      "source": [
        "#Номер тестовой цифры, которую будем распознавать\n",
        "n_rec = 1779"
      ],
      "execution_count": 0,
      "outputs": []
    },
    {
      "cell_type": "code",
      "metadata": {
        "id": "TT4Ofqx1WTCq",
        "colab_type": "code",
        "outputId": "2cc621e8-d50b-4924-e5e5-d77b6dbb48cb",
        "colab": {
          "base_uri": "https://localhost:8080/",
          "height": 265
        }
      },
      "source": [
        "plt.imshow(Image.fromarray(x_test_org[n_rec]).convert('RGBA'))\n",
        "plt.show()"
      ],
      "execution_count": 0,
      "outputs": [
        {
          "output_type": "display_data",
          "data": {
            "image/png": "[encoded data removed]",
            "text/plain": [
              "<Figure size 432x288 with 1 Axes>"
            ]
          },
          "metadata": {
            "tags": []
          }
        }
      ]
    },
    {
      "cell_type": "markdown",
      "metadata": {
        "id": "Lnft8V55M0Rc",
        "colab_type": "text"
      },
      "source": [
        "**Меняем размерность изображения и нормализуем его**"
      ]
    },
    {
      "cell_type": "code",
      "metadata": {
        "id": "UKFWqSHtM7Nf",
        "colab_type": "code",
        "colab": {}
      },
      "source": [
        "#Выбираем нужную картинку из тестовой выборки\n",
        "x = x_test[n_rec]\n",
        "#Добавляем одну размерность в конце, чтобы нейронка могла распознать пример\n",
        "#Потому что нейронка принимает именно массов примеров для распознавания\n",
        "#Мы делаем массив из одного примеры\n",
        "x = np.expand_dims(x, axis=0)"
      ],
      "execution_count": 0,
      "outputs": []
    },
    {
      "cell_type": "markdown",
      "metadata": {
        "id": "bMruIcf2NHlN",
        "colab_type": "text"
      },
      "source": [
        "**Запускаем распознавание**"
      ]
    },
    {
      "cell_type": "code",
      "metadata": {
        "id": "Ap72-9_kNKU2",
        "colab_type": "code",
        "colab": {}
      },
      "source": [
        "#Распознаём ннаш пример\n",
        "prediction = model.predict(x)"
      ],
      "execution_count": 0,
      "outputs": []
    },
    {
      "cell_type": "markdown",
      "metadata": {
        "id": "2Gldpmn2NQ6-",
        "colab_type": "text"
      },
      "source": [
        "**Печатаем результаты распознавания**"
      ]
    },
    {
      "cell_type": "code",
      "metadata": {
        "id": "P7opRiSZNUku",
        "colab_type": "code",
        "outputId": "33a791ba-9b12-4434-d82c-1660ed563d81",
        "colab": {
          "base_uri": "https://localhost:8080/",
          "height": 51
        }
      },
      "source": [
        "#Выводим результат, это 10 цифр\n",
        "#Сумма значений равна 1, так как финальный слой с активационной функций softmax\n",
        "print(prediction)"
      ],
      "execution_count": 0,
      "outputs": [
        {
          "output_type": "stream",
          "text": [
            "[[4.7713236e-19 5.8497616e-12 2.9332009e-10 1.0000000e+00 8.0967209e-19\n",
            "  1.3985324e-13 5.9154132e-22 1.7923739e-13 9.4078486e-12 1.4195101e-14]]\n"
          ],
          "name": "stdout"
        }
      ]
    },
    {
      "cell_type": "markdown",
      "metadata": {
        "id": "LQTiyEM3NfRG",
        "colab_type": "text"
      },
      "source": [
        "**Преобразуем результаты из формата one hot encoding**"
      ]
    },
    {
      "cell_type": "code",
      "metadata": {
        "id": "XVC_dTGqNohG",
        "colab_type": "code",
        "outputId": "18c2cbb9-f51a-49b5-824b-8e9923a0c241",
        "colab": {
          "base_uri": "https://localhost:8080/",
          "height": 34
        }
      },
      "source": [
        "#Получаем индекс самого большого элемента\n",
        "#Это итоговая цифра, которую распознала сеть\n",
        "prediction = np.argmax(prediction)\n",
        "print(prediction)"
      ],
      "execution_count": 0,
      "outputs": [
        {
          "output_type": "stream",
          "text": [
            "3\n"
          ],
          "name": "stdout"
        }
      ]
    },
    {
      "cell_type": "markdown",
      "metadata": {
        "id": "zJy8tKjuNyD2",
        "colab_type": "text"
      },
      "source": [
        "**Печатаем правильный ответ**"
      ]
    },
    {
      "cell_type": "code",
      "metadata": {
        "id": "0zoGlCZWN2Id",
        "colab_type": "code",
        "outputId": "de83fbb3-a94c-4dd6-cb76-88251e42a498",
        "colab": {
          "base_uri": "https://localhost:8080/",
          "height": 34
        }
      },
      "source": [
        "#выводим правильный ответ, для сравнения\n",
        "print(y_test_org[n_rec])"
      ],
      "execution_count": 0,
      "outputs": [
        {
          "output_type": "stream",
          "text": [
            "3\n"
          ],
          "name": "stdout"
        }
      ]
    },
    {
      "cell_type": "markdown",
      "metadata": {
        "id": "uFyI8beELi39",
        "colab_type": "text"
      },
      "source": [
        "## Загружаем свою картинку"
      ]
    },
    {
      "cell_type": "code",
      "metadata": {
        "id": "Pbsw3N30LnT2",
        "colab_type": "code",
        "outputId": "e3823b68-801f-4ce5-f764-8fda2ab58514",
        "colab": {
          "resources": {
            "http://localhost:8080/nbextensions/google.colab/files.js": {
              "data": "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",
              "ok": true,
              "headers": [
                [
                  "content-type",
                  "application/javascript"
                ]
              ],
              "status": 200,
              "status_text": ""
            }
          },
          "base_uri": "https://localhost:8080/",
          "height": 111
        }
      },
      "source": [
        "#Загружаем файл со своей рукописной цифрой\n",
        "files.upload()"
      ],
      "execution_count": 0,
      "outputs": [
        {
          "output_type": "display_data",
          "data": {
            "text/html": [
              "\n",
              "     <input type=\"file\" id=\"files-92005212-5d10-4b6e-aa95-4d2074dc0995\" name=\"files[]\" multiple disabled />\n",
              "     <output id=\"result-92005212-5d10-4b6e-aa95-4d2074dc0995\">\n",
              "      Upload widget is only available when the cell has been executed in the\n",
              "      current browser session. Please rerun this cell to enable.\n",
              "      </output>\n",
              "      <script src=\"/nbextensions/google.colab/files.js\"></script> "
            ],
            "text/plain": [
              "<IPython.core.display.HTML object>"
            ]
          },
          "metadata": {
            "tags": []
          }
        },
        {
          "output_type": "stream",
          "text": [
            "Saving 9.png to 9.png\n"
          ],
          "name": "stdout"
        },
        {
          "output_type": "execute_result",
          "data": {
            "text/plain": [
              "{'9.png': b'\\x89PNG\\r\\n\\x1a\\n\\x00\\x00\\x00\\rIHDR\\x00\\x00\\x00\\x94\\x00\\x00\\x00\\x94\\x08\\x02\\x00\\x00\\x00\\xfa^\\x97\\x83\\x00\\x00\\x00\\x01sRGB\\x00\\xae\\xce\\x1c\\xe9\\x00\\x00\\x00\\x04gAMA\\x00\\x00\\xb1\\x8f\\x0b\\xfca\\x05\\x00\\x00\\x00\\tpHYs\\x00\\x00\\x0e\\xc3\\x00\\x00\\x0e\\xc3\\x01\\xc7o\\xa8d\\x00\\x00\\x04\\x02IDATx^\\xed\\xda\\xed\\x92\\xdaJ\\x0c\\x84a\\xc8\\xfd\\xdf3Q2\\x94\\xe3\\xb0\\xd8\\xd8X\\x1f\\xdd\\x9a~\\xff\\x9cMR\\x95\\x98y,\\x19v\\xcf\\xfd\\xf1x\\xdc\\x14g\\xbf\\x9e\\xffU\\x84\\t\\x8f8\\xe1\\x11\\'<\\xe2\\x84G\\x9c\\xf0\\x88\\x13\\x1eq\\xc2#Nx\\xc4\\t\\x8f8\\xe1\\x11\\'<\\xe2\\x84G\\x9c\\xf0\\x88\\xa3\\xfc\\x91\\xd0\\xfd~\\x7f~u\\xac\\xae?\\xf6\\xc2\\xc5;+t\\xaa\\x1e\\x9c\\x88x\\xa1l/Q+\\xc2\\xe1e\\xca\\xfd\\x8c\\xcb\\x12\\x08\\xaf\\x96m\\x1d\\x0ba1\\x1e\\x0e\\xd8K\\x14~\\x95x\\xb0rK\\xe0\\x84e\\x9f\\xf3\\xf0\\xe5,\\xf0\\x8b\\xac\\xc1\\xa3\\x90\\x1b!_j\\xc1\\xda$\\x92[\\x07\\xb8B\\xb3\\xf1H\\xe5\\x96\\xa0\\x08\\t\\xbe\\xb7\\xf9\\xc5y\\xc5\\x1d1\\xd4\\xcdG\\x80\\xf7\\xf6\\xbc\\xb6x\\xec\\xf7\\xc7\\x1f-_4.um\\x86\\xde\\xb6[/$\\xe2\\x1f\\x05\\xb9-\\xf2&\\xafj\\xe1D\\x1c\\xb4\\xbd\\x96\\xaa\\x97\\xb3\\x8e`m~\\xccx\\xf6\\x85\"\\xfc\\x10\\xcaX\\x9b\\xd17\\xe9\\xa9\\x97\\xe0{1\\xb5\\xb7E8\\x1e\\x94\\xdc\\xc8\\xfd\\x92\\xaa\\x08c\\xd7f\\xa8\\x9c\\x1d\\xd9w\\xa7Vu\\xd6\\xee\\x05\\xe2E\\xcb=\\xbf\\xfa*_\\xbf\\xe8\\xed\\xb2U\\xd4\\xda\\x8c{=\\x8e\\x17\\xec{\\x91\\xf9\\x03\\x1d\\x82\\x17$\\x87\\x7f\\x9f%\\xfbq|T\\xb0C\\x89;\\x97\\xe4\\x13w\\xcc\\x1fo\\xe7F\\xfe\\xe2\\x98\\xfe\\xaa\\x85\\x1fn\\xce\\xbf\\xe2\\x9e\\xff\\xda<\\x88wdY\\x95\\x1c\\xe8\\xc5-\\x9ay\\xcd\\xcex.\\xcf\\x8f\\x12\\xb3uW^E\\xe6\\xc5{\\xae\\xcd\\x1er\\x16\\xc25\\x1c\\t\\xe8\\r\\x8b\\x1d\\x19\\xce\\xa9Q\\xf8\\x15\\xe3\\r\\xb0\\xd1\\xf3\\xb7\\xd4\\xe1\\xc2\\xbf\\xb7im\\xadSp0\\xfc\\'_\\x06\\x1eik<;\\xa5S\\x969\\xa7\\xca\\xf1!\\x1d!\\xf3\\xc8!9\\x9e\\xf0\\x0eec7&\\x0f\\xcaOx\\x9b\\xfdt:\\xb59\\x13\\x12\\xde^\\xe0~\\xc2\\xfb\\xd0\\x17{2m\\xb5\\n\\xefsP\\xcf\\xb9u\\xc2;\\xd4q\\xbfLi\\xe1\\x1d\\n\\xed\\xad\\xcaH\\x1f\\xd2?t\\x8a-\\xf905y{a\\x0e\\xdc\\x92\\xf06;+\\x97\\xbf\\xc3\\x84\\xf7>|9Kxo\\x02\\xdf\\x96K\\xc2{\\x8dE\\xce\\x12\\x1eq\\xc2\\xfb/\\xa2\\xb1\\xb3\\x84\\xf7/.9Kx\\xcf\\xe8\\xe4,\\xe1\\xfdac\\x94\\xb3f\\xc7sa\\xab\\xfa\\x16\\xe3\\xbcx\\xbc\\x03\\xb74)\\x9e#[\\xe1w\\xf6\\xa7\\xfb\\xa9B\\x0f\\xb6\\xd1\\\\\\x93\\xd7I\\xce\\x9ah\\xf2\\\\\\xe4\\xa0\\x8ek\\x96\\xc9c\\x7fo\\xf2\\xb6)\\xf0\\xbc\\xe4\\xd0\\xb6T\\x7f\\xbc\\x9637j\\xfb\\xcc\\xf35\\xc3<\\xa5\\x9ex\\x8er\\xc8\\xe7\\xd3pmN\"gu\\xc3\\x9bG\\xcej\\xb56\\xbd\\xe4X\\xce\\xa4\\xc9\\xe4\\x19\\x9b\\xe3\\xcc\\xb1D?y\\xbef\\\\\\xa7\\xc1=y3\\xcbY\\xc4x\\x93\\xcbYdk3\\xe8\\xc1F\\xfa\\xec\\xe0\\xc0\\x0b}3B*g\\xa1\\xe3\\x89m\\'\\xe8g\\x9e\\xe4\\xf6C\\x9c\\xbcP\\xb3Q\\x039\\x0b\\x0e/Z\\xae\\x07\\xdb\\x08km\\xba\\xc8\\x19\\xcf\\x96P\\'9\\x0bh\\xf2\\xbc\\xe4\\xb6\\xfe\\x9efr\\x16\\xca\\xe4ym\\xcb\\xe8\\xad\\x0b\\x15\\x04^\\xc2\\x89\\xf7\\x1b;\\x8b\\xf8\\xdbc\\xc7k)g\\xd5\\xe3E\\x8f]W9\\xab\\xf3\\xe4\\x19[c9\\xab\\x18\\xef\\xca\\xd8\\xed\\xc3\\xf4f\\x1bU~T\\x88[\\x983\\xc8Y\\xdd\\xd6\\xa6\\xb1M\"g\\x15L\\x9e\\xfb\\xc0\\xcd\\xa3\\xf5R\\xf6\\xe4I\\xce\\xb1T<\\xc9\\xf9\\x96\\x87\\'9\\xf7\\x92\\x9ey\\xberb\\x1b\\x85\\xe3i\\xe0\\xe2\\x8a\\xc5\\xd3\\xc0\\x85\\x16\\xf8\\xcc\\x93\\\\t\\xdd>\\xa4OU\\x14\\x9e\\xc6.!\\x82\\xc9\\x93\\xdcV\\xe8x\\x92\\xdb)\\xea\\xdd\\xa6\\xfb\\'\\x84\\xcc>\\x9e\\xc9\\xf2\\xeaj\\xef-\\xe1Uv\\xf1\\xf0\\xf5n\\xb32\\xbb\\xc5\\xaf\\xdc\\xe5\\xc2#.\\x04O;3\\'\\x7f<\\xc9\\xedd\\x0f\\xb9\\xd1\\xf3\\xd7\\xd7\\xf2\\xc7\\xf3\\xba\\xb2\\x96\\x8d;\\xdb\\xeb\\xfe\\xcex\\xe6\\x89s\\xdd\\x8b\\xdc\\x95\\xc3\\xc9X\\x9bZ\\xa4AeL\\x9e\\xda\\xea\\xe2N\\xd23\\x8f\\xb8\\x90\\xc9\\x93_NL?Io\\xd9\\x95\\xf3\\x0f\\xff\\x7fX(*\\xbc\\xc9\\x84\\x17^\\x9c\\xae\\xf0&M\\x1f\\x15\\x88\\x13\\x1eq\\xc2#Nx\\xc4\\t\\x8f8\\xe1\\x11\\'<\\xe2\\x84G\\x9c\\xf0\\x88\\x13\\x1eq\\xc2#Nx\\xc4\\t\\x8f8\\xe1\\x11\\'<\\xe2\\x84G\\x9c\\xf0\\x88\\x13\\x1eq\\xc2#Nx\\xc4\\t\\x8f\\xb6\\xdb\\xed7LG\\x16e\\xee\\xb1\\xbd\\xe7\\x00\\x00\\x00\\x00IEND\\xaeB`\\x82'}"
            ]
          },
          "metadata": {
            "tags": []
          },
          "execution_count": 33
        }
      ]
    },
    {
      "cell_type": "markdown",
      "metadata": {
        "id": "2rXNsnTnMLJO",
        "colab_type": "text"
      },
      "source": [
        "Проверяем загрузку картинки"
      ]
    },
    {
      "cell_type": "code",
      "metadata": {
        "id": "v3y6wbi-MNqs",
        "colab_type": "code",
        "outputId": "b5ba7686-e060-4e77-b6b2-e5703bb7c861",
        "colab": {
          "base_uri": "https://localhost:8080/",
          "height": 34
        }
      },
      "source": [
        "!ls"
      ],
      "execution_count": 0,
      "outputs": [
        {
          "output_type": "stream",
          "text": [
            "9.png  sample_data\n"
          ],
          "name": "stdout"
        }
      ]
    },
    {
      "cell_type": "markdown",
      "metadata": {
        "id": "F8HQI_X5MUms",
        "colab_type": "text"
      },
      "source": [
        "Загружаем картинку из файла"
      ]
    },
    {
      "cell_type": "code",
      "metadata": {
        "id": "Zfi4L4iYMTLE",
        "colab_type": "code",
        "colab": {}
      },
      "source": [
        "#Указывает путь к файлу\n",
        "img_path = '9.png'\n",
        "#Загружаем картинку, меняем размер на 28х28, формат на оттенки серого\n",
        "img = image.load_img(img_path, target_size=(28, 28), color_mode = \"grayscale\")"
      ],
      "execution_count": 0,
      "outputs": []
    },
    {
      "cell_type": "markdown",
      "metadata": {
        "id": "c2yCw9y1QSL1",
        "colab_type": "text"
      },
      "source": [
        "Показываем картинку"
      ]
    },
    {
      "cell_type": "code",
      "metadata": {
        "id": "BNW4bWUYP8Rt",
        "colab_type": "code",
        "outputId": "96679846-491a-4bac-e5cd-9aa7af0b6ebe",
        "colab": {
          "base_uri": "https://localhost:8080/",
          "height": 265
        }
      },
      "source": [
        "#Выводим картинку\n",
        "plt.imshow(img.convert('RGBA'))\n",
        "plt.show()"
      ],
      "execution_count": 0,
      "outputs": [
        {
          "output_type": "display_data",
          "data": {
            "image/png": "[encoded data removed]",
            "text/plain": [
              "<Figure size 432x288 with 1 Axes>"
            ]
          },
          "metadata": {
            "tags": []
          }
        }
      ]
    },
    {
      "cell_type": "markdown",
      "metadata": {
        "id": "2fHqp8KbOsJd",
        "colab_type": "text"
      },
      "source": [
        "Преобразуем картинку для обработки нейронной сетью"
      ]
    },
    {
      "cell_type": "code",
      "metadata": {
        "id": "0xsuR1vDNihN",
        "colab_type": "code",
        "colab": {}
      },
      "source": [
        "#Преобразуем картинку в массив\n",
        "x = image.img_to_array(img)\n",
        "#Меняем форму массива в плоский вектор\n",
        "x = x.reshape(1, 784)\n",
        "#Инвертируем изображение, нам надо белое на чёрном фоне\n",
        "x = 255 - x\n",
        "#Нормализуем изображение\n",
        "x /= 255"
      ],
      "execution_count": 0,
      "outputs": []
    },
    {
      "cell_type": "markdown",
      "metadata": {
        "id": "OYpe-m2bNR-8",
        "colab_type": "text"
      },
      "source": [
        "Запускаем распознавание"
      ]
    },
    {
      "cell_type": "code",
      "metadata": {
        "id": "jTUbtYAPNI60",
        "colab_type": "code",
        "colab": {}
      },
      "source": [
        "#Распознаём картинку\n",
        "prediction = model.predict(x)"
      ],
      "execution_count": 0,
      "outputs": []
    },
    {
      "cell_type": "markdown",
      "metadata": {
        "id": "gdDM5wzcRRql",
        "colab_type": "text"
      },
      "source": [
        "Результаты распознавания"
      ]
    },
    {
      "cell_type": "code",
      "metadata": {
        "id": "4qbu45hIMQvk",
        "colab_type": "code",
        "outputId": "dfb7de65-9193-42f2-a9c9-dc0d44ffec23",
        "colab": {
          "base_uri": "https://localhost:8080/",
          "height": 68
        }
      },
      "source": [
        "#Выводим результат\n",
        "prediction"
      ],
      "execution_count": 0,
      "outputs": [
        {
          "output_type": "execute_result",
          "data": {
            "text/plain": [
              "array([[5.9329127e-27, 3.1104040e-18, 1.0000000e+00, 3.7187744e-12,\n",
              "        0.0000000e+00, 1.5656691e-25, 4.1536733e-28, 7.5047622e-29,\n",
              "        8.3864785e-16, 1.4726752e-31]], dtype=float32)"
            ]
          },
          "metadata": {
            "tags": []
          },
          "execution_count": 39
        }
      ]
    },
    {
      "cell_type": "code",
      "metadata": {
        "id": "iOwGOz41PNsV",
        "colab_type": "code",
        "outputId": "819893bb-e4ab-4e38-df06-88a583e89c48",
        "colab": {
          "base_uri": "https://localhost:8080/",
          "height": 34
        }
      },
      "source": [
        "#Выводим распознанную цифру\n",
        "print(np.argmax(prediction))"
      ],
      "execution_count": 0,
      "outputs": [
        {
          "output_type": "stream",
          "text": [
            "2\n"
          ],
          "name": "stdout"
        }
      ]
    },
    {
      "cell_type": "markdown",
      "metadata": {
        "id": "tkHPcwWNY6dm",
        "colab_type": "text"
      },
      "source": [
        "#Функция быстрого теста сети"
      ]
    },
    {
      "cell_type": "code",
      "metadata": {
        "id": "Mz3XwuSTZqpq",
        "colab_type": "code",
        "colab": {}
      },
      "source": [
        "#Функция генерации нейронки\n",
        "#neoronsL1 - нейронов в первом слое\n",
        "#neuronsL2 - нейронов в втором слое, 0 - если не делать слой\n",
        "#neuronsL3 - нейронов в третьем слое, 0 - если не делать слой\n",
        "#innerActivation - активационная функция скрытых слоёв\n",
        "#outputActivation - активационная функция выходного слоя\n",
        "def createNet(neoronsL1, neuronsL2, neuronsL3, innerActivation, outputActivation):\n",
        "  model = Sequential() #Создаём сеть\n",
        "  model.add(Dense(neoronsL1, input_dim=784, activation=innerActivation)) #Добавляем первый слой\n",
        "  \n",
        "  #Если число второго слоя > 0\n",
        "  #Создаём второй слой\n",
        "  if (neuronsL2 > 0):\n",
        "    model.add(Dense(neuronsL2, activation=innerActivation))\n",
        "  \n",
        "  #Если число третьего слоя > 0\n",
        "  #Создаём третий слой\n",
        "  if (neuronsL3 > 0):\n",
        "    model.add(Dense(neuronsL3, activation=innerActivation))\n",
        "    \n",
        "  #Создаём выходной слой\n",
        "  model.add(Dense(10, activation=outputActivation))\n",
        "  \n",
        "  #Компилируем сеть\n",
        "  model.compile(loss=\"categorical_crossentropy\", optimizer=\"adam\", metrics=[\"accuracy\"])\n",
        "  \n",
        "  #Возвращаем созданную сеть\n",
        "  return model\n",
        "\n",
        "#Обучаем и тестируем сеть\n",
        "#Net - лист с 5 параметрами сети\n",
        "#batch_size - размер батча\n",
        "#epochs - число эпох обучения\n",
        "#iterations - число запусков сети\n",
        "def testModel(net, batch_size, epochs, iterations):\n",
        "  acc = [] #Лист с точностями на проверочной выборке по каждому запуску\n",
        "  \n",
        "  #Запускаем iterations раз сеть\n",
        "  for i in range(iterations):\n",
        "    #Создаём сеть\n",
        "    model = createNet(net[0], net[1], net[2], net[3], net[4])\n",
        "    #Обучаем сеть\n",
        "    history = model.fit(x_train, y_train, batch_size=batch_size, epochs=epochs, verbose=0, validation_split=0.2)\n",
        "    #Добавляем в лист точность на проверочной выборке на последней итерации\n",
        "    acc.append(history.history[\"val_acc\"][-1])\n",
        "  \n",
        "  #Возвращаем лист точностей\n",
        "  return acc"
      ],
      "execution_count": 0,
      "outputs": []
    },
    {
      "cell_type": "code",
      "metadata": {
        "id": "8ZUVXlVzcX_J",
        "colab_type": "code",
        "colab": {}
      },
      "source": [
        "#Запускаем тест одной нейронки 100 раз\n",
        "acc = testModel([800,0,0,'relu','softmax'], 200, 10, 3)\n",
        "print(acc)"
      ],
      "execution_count": 0,
      "outputs": []
    },
    {
      "cell_type": "code",
      "metadata": {
        "id": "tbePSGZCdFp3",
        "colab_type": "code",
        "outputId": "5d61231e-ef59-4fc2-b53e-cb252d677cc0",
        "colab": {
          "base_uri": "https://localhost:8080/",
          "height": 111
        }
      },
      "source": [
        "#Отображаем результаты\n",
        "print(\"Точность на всех запусках: \", [round(a,4) for a in acc])\n",
        "print(\"Среднее значение точности: \", round(sum(acc)/len(acc), 4))\n",
        "print(\"Амплитуда разброса точности: \", round(max(acc) - min(acc), 4))\n",
        "print(\"Среднеквадратичное отклонение точности: \", round(np.array(acc).std(),6))"
      ],
      "execution_count": 0,
      "outputs": [
        {
          "output_type": "stream",
          "text": [
            "Точность на всех запусках:  [0.9798, 0.9791, 0.9789, 0.9795, 0.9792, 0.9802, 0.98, 0.9796, 0.9798, 0.9799, 0.98, 0.9772, 0.9792, 0.98, 0.9795, 0.9782, 0.9788, 0.98, 0.9792, 0.9789, 0.9795, 0.9789, 0.9783, 0.9779, 0.9782, 0.978, 0.9781, 0.9788, 0.9803, 0.9796, 0.9803, 0.9789, 0.9805, 0.9796, 0.978, 0.9787, 0.9778, 0.9807, 0.9794, 0.9782, 0.9779, 0.9789, 0.9789, 0.9791, 0.98, 0.9784, 0.9768, 0.9794, 0.9784, 0.9789, 0.9793, 0.9798, 0.9802, 0.9798, 0.9792, 0.9788, 0.9788, 0.9802, 0.9795, 0.9802, 0.9792, 0.9783, 0.9796, 0.9779, 0.9801, 0.977, 0.9785, 0.9781, 0.9789, 0.9784, 0.9798, 0.9802, 0.9792, 0.9796, 0.9789, 0.9798, 0.9795, 0.9781, 0.9804, 0.9795, 0.9788, 0.9808, 0.9789, 0.9793, 0.979, 0.9796, 0.9787, 0.9799, 0.9791, 0.9789, 0.9802, 0.9783, 0.9778, 0.9788, 0.9787, 0.9776, 0.979, 0.9785, 0.978, 0.9772]\n",
            "Среднее значение точности:  0.9791\n",
            "Амплитуда разброса точности:  0.004\n",
            "Среднеквадратичное отклонение точности:  0.000848\n"
          ],
          "name": "stdout"
        }
      ]
    },
    {
      "cell_type": "code",
      "metadata": {
        "id": "lE_0ZE4aeFQs",
        "colab_type": "code",
        "outputId": "7eaf455c-9b18-44f9-96eb-b98dced9cfea",
        "colab": {
          "base_uri": "https://localhost:8080/",
          "height": 269
        }
      },
      "source": [
        "#Строим гистограмму точности сети\n",
        "plt.hist(acc, 8)\n",
        "plt.show()"
      ],
      "execution_count": 0,
      "outputs": [
        {
          "output_type": "display_data",
          "data": {
            "image/png": "[encoded data removed]",
            "text/plain": [
              "<Figure size 432x288 with 1 Axes>"
            ]
          },
          "metadata": {
            "tags": []
          }
        }
      ]
    },
    {
      "cell_type": "markdown",
      "metadata": {
        "id": "Vb4sndlyWn0Y",
        "colab_type": "text"
      },
      "source": [
        "**Генерируем и тестируем нейронки**"
      ]
    },
    {
      "cell_type": "code",
      "metadata": {
        "id": "Qe5w8lM3RrEs",
        "colab_type": "code",
        "colab": {}
      },
      "source": [
        "#Создаём 5 различных сетей\n",
        "net = []\n",
        "net.append([800, 0, 0, 'relu', 'softmax'])\n",
        "net.append([400, 0, 0, 'relu', 'softmax'])\n",
        "net.append([400, 400, 0, 'relu', 'softmax'])\n",
        "net.append([800, 0, 0, 'linear', 'softmax'])\n",
        "net.append([800, 0, 0, 'relu', 'sigmoid'])"
      ],
      "execution_count": 0,
      "outputs": []
    },
    {
      "cell_type": "code",
      "metadata": {
        "id": "4wj0ldKWXAqa",
        "colab_type": "code",
        "outputId": "faa330cd-d1dc-4fdb-f7e1-35370a587502",
        "colab": {
          "base_uri": "https://localhost:8080/",
          "height": 185
        }
      },
      "source": [
        "\n",
        "#Обучаем каждую сеть и выводим среднюю точность на проверочной выборке по 3 запускам\n",
        "for currNet in net:\n",
        "  acc = testModel(currNet, 200, 10, 3)\n",
        "  print(currNet, round(sum(acc)/len(acc),4))"
      ],
      "execution_count": 0,
      "outputs": [
        {
          "output_type": "stream",
          "text": [
            "[800, 0, 0, 'relu', 'softmax'] 0.9804\n",
            "[400, 0, 0, 'relu', 'softmax'] 0.9763\n",
            "[400, 400, 0, 'relu', 'softmax'] 0.9765\n",
            "[800, 0, 0, 'linear', 'softmax'] 0.9221\n",
            "WARNING:tensorflow:From /usr/local/lib/python3.6/dist-packages/tensorflow/python/ops/math_grad.py:1250: add_dispatch_support.<locals>.wrapper (from tensorflow.python.ops.array_ops) is deprecated and will be removed in a future version.\n",
            "Instructions for updating:\n",
            "Use tf.where in 2.0, which has the same broadcast rule as np.where\n",
            "[800, 0, 0, 'relu', 'sigmoid'] 0.0995\n"
          ],
          "name": "stdout"
        }
      ]
    }
  ]
}