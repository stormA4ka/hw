{
  "nbformat": 4,
  "nbformat_minor": 0,
  "metadata": {
    "colab": {
      "name": "Copy of Ноябрьский курс. Pro. Занятие 1. Распознавание рукописных цифр",
      "provenance": [],
      "collapsed_sections": [
        "8OsyUFVULEkG"
      ],
      "include_colab_link": true
    },
    "kernelspec": {
      "name": "python3",
      "display_name": "Python 3"
    },
    "accelerator": "GPU"
  },
  "cells": [
    {
      "cell_type": "markdown",
      "metadata": {
        "id": "view-in-github",
        "colab_type": "text"
      },
      "source": [
        "<a href=\"https://colab.research.google.com/github/stormA4ka/hw/blob/master/Copy_of_%D0%9D%D0%BE%D1%8F%D0%B1%D1%80%D1%8C%D1%81%D0%BA%D0%B8%D0%B9_%D0%BA%D1%83%D1%80%D1%81_Pro_%D0%97%D0%B0%D0%BD%D1%8F%D1%82%D0%B8%D0%B5_1_%D0%A0%D0%B0%D1%81%D0%BF%D0%BE%D0%B7%D0%BD%D0%B0%D0%B2%D0%B0%D0%BD%D0%B8%D0%B5_%D1%80%D1%83%D0%BA%D0%BE%D0%BF%D0%B8%D1%81%D0%BD%D1%8B%D1%85_%D1%86%D0%B8%D1%84%D1%80.ipynb\" target=\"_parent\"><img src=\"https://colab.research.google.com/assets/colab-badge.svg\" alt=\"Open In Colab\"/></a>"
      ]
    },
    {
      "cell_type": "markdown",
      "metadata": {
        "id": "Ah7dy1kFL2H9",
        "colab_type": "text"
      },
      "source": [
        "# Распознавание рукописных цифр из набора данных MNIST с помощью Keras\n",
        "\n",
        "Чтобы запускать и редактировать код, сохраните копию этого ноутбука себе (File->Save a copy in Drive...). Свою копию вы сможете изменять и запускать."
      ]
    },
    {
      "cell_type": "code",
      "metadata": {
        "id": "qrfd6FzSLrE2",
        "colab_type": "code",
        "outputId": "928c0420-df7b-44e4-af20-69bbe5596f0b",
        "colab": {
          "base_uri": "https://localhost:8080/",
          "height": 63
        }
      },
      "source": [
        "from tensorflow.keras.datasets import mnist #Библиотека с базой Mnist\n",
        "from tensorflow.keras.models import Sequential #НС прямого распространения\n",
        "from tensorflow.keras.layers import Dense #Полносвязные слой\n",
        "from tensorflow.keras import utils #Утилиты для to_categorical\n",
        "from tensorflow.keras.preprocessing import image #Для отрисовки изображения\n",
        "from google.colab import files #Для загрузки своей картинки\n",
        "import numpy as np #Библиотека работы с массивами\n",
        "import matplotlib.pyplot as plt #Отрисовка изображений\n",
        "from PIL import Image #Отрисовка изображений\n",
        "#Отрисовывать изображения в ноутбуке, а не в консоль или файл\n",
        "%matplotlib inline "
      ],
      "execution_count": 2,
      "outputs": [
        {
          "output_type": "display_data",
          "data": {
            "text/html": [
              "<p style=\"color: red;\">\n",
              "The default version of TensorFlow in Colab will soon switch to TensorFlow 2.x.<br>\n",
              "We recommend you <a href=\"https://www.tensorflow.org/guide/migrate\" target=\"_blank\">upgrade</a> now \n",
              "or ensure your notebook will continue to use TensorFlow 1.x via the <code>%tensorflow_version 1.x</code> magic:\n",
              "<a href=\"https://colab.research.google.com/notebooks/tensorflow_version.ipynb\" target=\"_blank\">more info</a>.</p>\n"
            ],
            "text/plain": [
              "<IPython.core.display.HTML object>"
            ]
          },
          "metadata": {
            "tags": []
          }
        }
      ]
    },
    {
      "cell_type": "markdown",
      "metadata": {
        "id": "xiurjCBVMDTG",
        "colab_type": "text"
      },
      "source": [
        "## Подготовка данных для обучения сети"
      ]
    },
    {
      "cell_type": "markdown",
      "metadata": {
        "id": "1yDF75Cx8VPz",
        "colab_type": "text"
      },
      "source": [
        "**Загружаем набор данных с рукописными цифрами**"
      ]
    },
    {
      "cell_type": "code",
      "metadata": {
        "id": "E5L3LUIi8PDV",
        "colab_type": "code",
        "colab": {
          "base_uri": "https://localhost:8080/",
          "height": 51
        },
        "outputId": "e107103b-d9ee-4092-f78e-0fe2d80bdab1"
      },
      "source": [
        "#Загрузка данных Mnist\n",
        "#x_train_org - входные картинки, обучающая выбрка\n",
        "#y_train_org - выходные индексы, обучающая выборка\n",
        "#x_test_org - входные картинки, тестовая выбрка\n",
        "#y_test_org - выходные индексы, тестовая выборка\n",
        "(x_train_org, y_train_org), (x_test_org, y_test_org) = mnist.load_data()"
      ],
      "execution_count": 3,
      "outputs": [
        {
          "output_type": "stream",
          "text": [
            "Downloading data from https://storage.googleapis.com/tensorflow/tf-keras-datasets/mnist.npz\n",
            "11493376/11490434 [==============================] - 0s 0us/step\n"
          ],
          "name": "stdout"
        }
      ]
    },
    {
      "cell_type": "code",
      "metadata": {
        "id": "ga0DtPJQVkEh",
        "colab_type": "code",
        "outputId": "b331307b-6c53-435a-ec2e-112f56ec02f9",
        "colab": {
          "base_uri": "https://localhost:8080/",
          "height": 265
        }
      },
      "source": [
        "n = 55 #Номер картинки\n",
        "\n",
        "#Отрисовка картинки\n",
        "#Image.fromarray - создание картинки по массиву\n",
        "#.convert('RGBA') - преобразование в RGBA формат\n",
        "plt.imshow(Image.fromarray(x_train_org[n]).convert('RGBA'))\n",
        "plt.show()"
      ],
      "execution_count": 4,
      "outputs": [
        {
          "output_type": "display_data",
          "data": {
            "image/png": "[encoded data removed]",
            "text/plain": [
              "<Figure size 432x288 with 1 Axes>"
            ]
          },
          "metadata": {
            "tags": []
          }
        }
      ]
    },
    {
      "cell_type": "markdown",
      "metadata": {
        "id": "7uXTnIojJLbl",
        "colab_type": "text"
      },
      "source": [
        "**Преобразование размерности данных в наборе**"
      ]
    },
    {
      "cell_type": "code",
      "metadata": {
        "id": "GBAqLKjGJJ-V",
        "colab_type": "code",
        "colab": {}
      },
      "source": [
        "#Меняем формат входных картинок с 28х28 на 784х1\n",
        "#Это нужно для удобства работы с полносвязным слоем (Dense)\n",
        "#С двумерной картинкой мы будем работать в будущем с помощью свёрточных сетей\n",
        "#Функция .reshape меняет размер массива\n",
        "x_train = x_train_org.reshape(60000, 784)\n",
        "x_test = x_test_org.reshape(10000, 784)"
      ],
      "execution_count": 0,
      "outputs": []
    },
    {
      "cell_type": "markdown",
      "metadata": {
        "id": "hDaHO5LgJYxU",
        "colab_type": "text"
      },
      "source": [
        "**Нормализация данных**"
      ]
    },
    {
      "cell_type": "code",
      "metadata": {
        "id": "rscaAuBNJdq9",
        "colab_type": "code",
        "colab": {}
      },
      "source": [
        "#Нормализуем входные картинки\n",
        "#НС лучше работают, если данные нормаваны от 0 до 1\n",
        "#Сейчас значения во входных картинках от 0 до 255\n",
        "#Надо разделить картинки на 255\n",
        "#И сначала преобразовать картинки в тип float (цифры с плавающей точкой)\n",
        "x_train = x_train.astype('float32') / 255\n",
        "#x_train = x_train / 255\n",
        "x_test = x_test.astype('float32') / 255\n",
        "#x_test = x_test / 255"
      ],
      "execution_count": 0,
      "outputs": []
    },
    {
      "cell_type": "markdown",
      "metadata": {
        "id": "KRcMlNzqJk1t",
        "colab_type": "text"
      },
      "source": [
        "**Работа с правильными ответами**"
      ]
    },
    {
      "cell_type": "code",
      "metadata": {
        "id": "A5lKe_syJqPu",
        "colab_type": "code",
        "outputId": "38d5391a-f879-47b8-cf3b-5ccbe5256cd1",
        "colab": {
          "base_uri": "https://localhost:8080/",
          "height": 34
        }
      },
      "source": [
        "#Выводим пример индекса в выходных данных\n",
        "print(y_train_org[n])"
      ],
      "execution_count": 8,
      "outputs": [
        {
          "output_type": "stream",
          "text": [
            "8\n"
          ],
          "name": "stdout"
        }
      ]
    },
    {
      "cell_type": "markdown",
      "metadata": {
        "id": "zqJ9GA1kJxBF",
        "colab_type": "text"
      },
      "source": [
        "**Преобразуем метки в формат one hot encoding**"
      ]
    },
    {
      "cell_type": "code",
      "metadata": {
        "id": "zQnasUyyJ3cG",
        "colab_type": "code",
        "colab": {}
      },
      "source": [
        "#НС сложно работать с чистыми индексами от 0 до 9\n",
        "#Ей проще работать с данными в формате one hot encoding\n",
        "#Это формат из 10 цифр - все 0 и одна 1 там, где правильный ответ\n",
        "#Например\n",
        "#Индекс 0 - это [1 0 0 0 0 0 0 0 0 0]\n",
        "#Индекс 2 - это [0 0 1 0 0 0 0 0 0 0]\n",
        "#Индекс 9 - это [0 0 0 0 0 0 0 0 0 1]\n",
        "#Это делается функцией utils.to_categorical()\n",
        "#Второй параметр - это количество классов, у нас - 10\n",
        "y_train = utils.to_categorical(y_train_org, 10)\n",
        "y_test = utils.to_categorical(y_test_org, 10)"
      ],
      "execution_count": 0,
      "outputs": []
    },
    {
      "cell_type": "markdown",
      "metadata": {
        "id": "KfuqlyjHJ_ye",
        "colab_type": "text"
      },
      "source": [
        "**Правильный ответ в формате one hot encoding**"
      ]
    },
    {
      "cell_type": "code",
      "metadata": {
        "id": "9zUfd1aeKH3e",
        "colab_type": "code",
        "outputId": "38b09dc6-3601-4aba-de4c-ff401b9f57ca",
        "colab": {
          "base_uri": "https://localhost:8080/",
          "height": 34
        }
      },
      "source": [
        "#Выводим размер y_train\n",
        "#60 тысяч примеров, каждый размера 10 (так как 10 классов)\n",
        "print(y_train.shape)"
      ],
      "execution_count": 11,
      "outputs": [
        {
          "output_type": "stream",
          "text": [
            "(60000, 10)\n"
          ],
          "name": "stdout"
        }
      ]
    },
    {
      "cell_type": "code",
      "metadata": {
        "id": "KWYwnS5giydM",
        "colab_type": "code",
        "outputId": "e527c9e3-b057-473b-df52-afcf13c418c8",
        "colab": {
          "base_uri": "https://localhost:8080/",
          "height": 34
        }
      },
      "source": [
        "#Выводим пример одного выходного вектора\n",
        "print(y_train[n])"
      ],
      "execution_count": 12,
      "outputs": [
        {
          "output_type": "stream",
          "text": [
            "[0. 0. 0. 0. 0. 0. 0. 0. 1. 0.]\n"
          ],
          "name": "stdout"
        }
      ]
    },
    {
      "cell_type": "markdown",
      "metadata": {
        "id": "BmTr_lXTKNbN",
        "colab_type": "text"
      },
      "source": [
        "## Создаем нейронную сеть"
      ]
    },
    {
      "cell_type": "markdown",
      "metadata": {
        "id": "fV_igNZuMNXe",
        "colab_type": "text"
      },
      "source": [
        "**Создаем последовательную модель**"
      ]
    },
    {
      "cell_type": "code",
      "metadata": {
        "id": "D-jPYYxIKQkt",
        "colab_type": "code",
        "colab": {}
      },
      "source": [
        "#Создаём сеть прямого распространения\n",
        "#Пока она пустая\n",
        "#Подробнее на https://keras.io/models/sequential/\n",
        "model = Sequential()"
      ],
      "execution_count": 0,
      "outputs": []
    },
    {
      "cell_type": "markdown",
      "metadata": {
        "id": "Q3QzIVtBMQRG",
        "colab_type": "text"
      },
      "source": [
        "**Добавляем уровни сети**\n"
      ]
    },
    {
      "cell_type": "code",
      "metadata": {
        "id": "kYVSvpNIMSnG",
        "colab_type": "code",
        "colab": {
          "base_uri": "https://localhost:8080/",
          "height": 88
        },
        "outputId": "cf196bfb-d46f-4cf5-c102-a3d86e2fb9bc"
      },
      "source": [
        "#Добавляем в сеть полносвязные слои\n",
        "#Dense - полносвязный слой, подробнее на https://keras.io/layers/core/\n",
        "#Первый парамерт - количество нейронок, обычно от 2 до 2000, подбирается в ходе исследования\n",
        "#input_dim - размер входного вектора, указывается только в первом слое сети\n",
        "#activation - активационная функция нейронов данного слоя\n",
        "#relu - одна из активационных функций, подробнее на https://keras.io/activations/\n",
        "model.add(Dense(800, input_dim=784, activation=\"relu\"))\n",
        "model.add(Dense(400, activation=\"relu\"))\n",
        "\n",
        "#Выходной полносвязный слой, 10 нейронов (по количеству рукописных цифр)\n",
        "#activation=\"softmax\" - активационная функция, \n",
        "#которая делает сумму всех значений нейронов слой, равной 1\n",
        "#Подробнее https://keras.io/activations/\n",
        "model.add(Dense(10, activation=\"softmax\"))"
      ],
      "execution_count": 14,
      "outputs": [
        {
          "output_type": "stream",
          "text": [
            "WARNING:tensorflow:From /usr/local/lib/python3.6/dist-packages/tensorflow_core/python/ops/resource_variable_ops.py:1630: calling BaseResourceVariable.__init__ (from tensorflow.python.ops.resource_variable_ops) with constraint is deprecated and will be removed in a future version.\n",
            "Instructions for updating:\n",
            "If using Keras pass *_constraint arguments to layers.\n"
          ],
          "name": "stdout"
        }
      ]
    },
    {
      "cell_type": "markdown",
      "metadata": {
        "id": "G__m76T-KWhd",
        "colab_type": "text"
      },
      "source": [
        "**Компилируем сеть**"
      ]
    },
    {
      "cell_type": "code",
      "metadata": {
        "id": "PTcbSxchKZjd",
        "colab_type": "code",
        "outputId": "6da2a250-c47b-49aa-bd71-9b7bbdaaa7d1",
        "colab": {
          "base_uri": "https://localhost:8080/",
          "height": 272
        }
      },
      "source": [
        "#Нейронку надо \"скомпилировать\"\n",
        "#При компиляции мы задаём несколько параметров\n",
        "#loss - функция ошибки, которую оптимизирует сеть\n",
        "#categorical_crossentropy - одна из функций ошибки, подходящая для классификации нескольких классов, подробнее https://keras.io/activations/\n",
        "#optimizer - алгоритм обучения НС\n",
        "#adam - один из алгоритмов обучения НС, подробнее https://keras.io/optimizers/\n",
        "#metrics - метрика качества обучения, измеряется после каждой эпохи обучения\n",
        "#accuracy - метрика, процент правильно распознанных примеров, подробнее https://keras.io/metrics/\n",
        "model.compile(loss=\"categorical_crossentropy\", optimizer=\"adam\", metrics=[\"accuracy\"])\n",
        "\n",
        "#Вывод структуры нейронки\n",
        "print(model.summary())"
      ],
      "execution_count": 15,
      "outputs": [
        {
          "output_type": "stream",
          "text": [
            "Model: \"sequential\"\n",
            "_________________________________________________________________\n",
            "Layer (type)                 Output Shape              Param #   \n",
            "=================================================================\n",
            "dense (Dense)                (None, 800)               628000    \n",
            "_________________________________________________________________\n",
            "dense_1 (Dense)              (None, 400)               320400    \n",
            "_________________________________________________________________\n",
            "dense_2 (Dense)              (None, 10)                4010      \n",
            "=================================================================\n",
            "Total params: 952,410\n",
            "Trainable params: 952,410\n",
            "Non-trainable params: 0\n",
            "_________________________________________________________________\n",
            "None\n"
          ],
          "name": "stdout"
        }
      ]
    },
    {
      "cell_type": "markdown",
      "metadata": {
        "id": "lspCHiaCKl72",
        "colab_type": "text"
      },
      "source": [
        "## Обучаем нейронную сеть"
      ]
    },
    {
      "cell_type": "code",
      "metadata": {
        "id": "H6EIXu1dKoju",
        "colab_type": "code",
        "outputId": "875d1c9b-07df-49d9-ae02-496132e0467f",
        "colab": {
          "base_uri": "https://localhost:8080/",
          "height": 1000
        }
      },
      "source": [
        "#fit - функция обучения нейронки\n",
        "#x_train, y_train - обучающая выборка, входные и выходные данные\n",
        "#batch_size - размер батча, количество примеров, которое обрабатывает нейронка, перед одним изменением весов\n",
        "#epochs - количество эпох, когда нейронка обучается на всех примерах выбрки\n",
        "#verbose - 0 - не визуализировать ход обучения, 1 - визуализировать\n",
        "#validation_split - процент данных, на которых сеть не обучается, на которых мы измеряем точность распознавания\n",
        "model.fit(x_train, y_train, batch_size=128, epochs=30, verbose=1, validation_split=0.2)"
      ],
      "execution_count": 16,
      "outputs": [
        {
          "output_type": "stream",
          "text": [
            "Train on 48000 samples, validate on 12000 samples\n",
            "Epoch 1/30\n",
            "48000/48000 [==============================] - 3s 56us/sample - loss: 0.2306 - acc: 0.9323 - val_loss: 0.1091 - val_acc: 0.9672\n",
            "Epoch 2/30\n",
            "48000/48000 [==============================] - 1s 23us/sample - loss: 0.0823 - acc: 0.9741 - val_loss: 0.1013 - val_acc: 0.9686\n",
            "Epoch 3/30\n",
            "48000/48000 [==============================] - 1s 22us/sample - loss: 0.0514 - acc: 0.9836 - val_loss: 0.0835 - val_acc: 0.9746\n",
            "Epoch 4/30\n",
            "48000/48000 [==============================] - 1s 22us/sample - loss: 0.0338 - acc: 0.9893 - val_loss: 0.0913 - val_acc: 0.9742\n",
            "Epoch 5/30\n",
            "48000/48000 [==============================] - 1s 23us/sample - loss: 0.0258 - acc: 0.9916 - val_loss: 0.0838 - val_acc: 0.9772\n",
            "Epoch 6/30\n",
            "48000/48000 [==============================] - 1s 23us/sample - loss: 0.0220 - acc: 0.9928 - val_loss: 0.0972 - val_acc: 0.9767\n",
            "Epoch 7/30\n",
            "48000/48000 [==============================] - 1s 23us/sample - loss: 0.0185 - acc: 0.9936 - val_loss: 0.0881 - val_acc: 0.9778\n",
            "Epoch 8/30\n",
            "48000/48000 [==============================] - 1s 23us/sample - loss: 0.0143 - acc: 0.9953 - val_loss: 0.0973 - val_acc: 0.9787\n",
            "Epoch 9/30\n",
            "48000/48000 [==============================] - 1s 23us/sample - loss: 0.0122 - acc: 0.9960 - val_loss: 0.1019 - val_acc: 0.9776\n",
            "Epoch 10/30\n",
            "48000/48000 [==============================] - 1s 22us/sample - loss: 0.0172 - acc: 0.9943 - val_loss: 0.1094 - val_acc: 0.9758\n",
            "Epoch 11/30\n",
            "48000/48000 [==============================] - 1s 22us/sample - loss: 0.0115 - acc: 0.9962 - val_loss: 0.0976 - val_acc: 0.9797\n",
            "Epoch 12/30\n",
            "48000/48000 [==============================] - 1s 22us/sample - loss: 0.0102 - acc: 0.9963 - val_loss: 0.1053 - val_acc: 0.9779\n",
            "Epoch 13/30\n",
            "48000/48000 [==============================] - 1s 23us/sample - loss: 0.0129 - acc: 0.9957 - val_loss: 0.1135 - val_acc: 0.9774\n",
            "Epoch 14/30\n",
            "48000/48000 [==============================] - 1s 22us/sample - loss: 0.0102 - acc: 0.9966 - val_loss: 0.1296 - val_acc: 0.9748\n",
            "Epoch 15/30\n",
            "48000/48000 [==============================] - 1s 22us/sample - loss: 0.0090 - acc: 0.9968 - val_loss: 0.1007 - val_acc: 0.9802\n",
            "Epoch 16/30\n",
            "48000/48000 [==============================] - 1s 23us/sample - loss: 0.0048 - acc: 0.9986 - val_loss: 0.1141 - val_acc: 0.9812\n",
            "Epoch 17/30\n",
            "48000/48000 [==============================] - 1s 22us/sample - loss: 0.0018 - acc: 0.9994 - val_loss: 0.1106 - val_acc: 0.9818\n",
            "Epoch 18/30\n",
            "48000/48000 [==============================] - 1s 22us/sample - loss: 0.0145 - acc: 0.9955 - val_loss: 0.1259 - val_acc: 0.9753\n",
            "Epoch 19/30\n",
            "48000/48000 [==============================] - 1s 23us/sample - loss: 0.0103 - acc: 0.9967 - val_loss: 0.1133 - val_acc: 0.9794\n",
            "Epoch 20/30\n",
            "48000/48000 [==============================] - 1s 23us/sample - loss: 0.0109 - acc: 0.9964 - val_loss: 0.1133 - val_acc: 0.9785\n",
            "Epoch 21/30\n",
            "48000/48000 [==============================] - 1s 22us/sample - loss: 0.0053 - acc: 0.9983 - val_loss: 0.1169 - val_acc: 0.9797\n",
            "Epoch 22/30\n",
            "48000/48000 [==============================] - 1s 22us/sample - loss: 0.0085 - acc: 0.9978 - val_loss: 0.1214 - val_acc: 0.9818\n",
            "Epoch 23/30\n",
            "48000/48000 [==============================] - 1s 22us/sample - loss: 0.0026 - acc: 0.9993 - val_loss: 0.1203 - val_acc: 0.9810\n",
            "Epoch 24/30\n",
            "48000/48000 [==============================] - 1s 23us/sample - loss: 0.0091 - acc: 0.9973 - val_loss: 0.1428 - val_acc: 0.9775\n",
            "Epoch 25/30\n",
            "48000/48000 [==============================] - 1s 23us/sample - loss: 0.0061 - acc: 0.9980 - val_loss: 0.1337 - val_acc: 0.9778\n",
            "Epoch 26/30\n",
            "48000/48000 [==============================] - 1s 22us/sample - loss: 0.0067 - acc: 0.9975 - val_loss: 0.1253 - val_acc: 0.9802\n",
            "Epoch 27/30\n",
            "48000/48000 [==============================] - 1s 22us/sample - loss: 0.0042 - acc: 0.9987 - val_loss: 0.1209 - val_acc: 0.9813\n",
            "Epoch 28/30\n",
            "48000/48000 [==============================] - 1s 23us/sample - loss: 0.0043 - acc: 0.9990 - val_loss: 0.1515 - val_acc: 0.9776\n",
            "Epoch 29/30\n",
            "48000/48000 [==============================] - 1s 23us/sample - loss: 0.0061 - acc: 0.9981 - val_loss: 0.1445 - val_acc: 0.9795\n",
            "Epoch 30/30\n",
            "48000/48000 [==============================] - 1s 22us/sample - loss: 0.0091 - acc: 0.9974 - val_loss: 0.1396 - val_acc: 0.9783\n"
          ],
          "name": "stdout"
        },
        {
          "output_type": "execute_result",
          "data": {
            "text/plain": [
              "<tensorflow.python.keras.callbacks.History at 0x7f6ec79c8198>"
            ]
          },
          "metadata": {
            "tags": []
          },
          "execution_count": 16
        }
      ]
    },
    {
      "cell_type": "markdown",
      "metadata": {
        "id": "8OsyUFVULEkG",
        "colab_type": "text"
      },
      "source": [
        "## Сохраняем обученную нейронную сеть"
      ]
    },
    {
      "cell_type": "markdown",
      "metadata": {
        "id": "3H4ivOt5H2rm",
        "colab_type": "text"
      },
      "source": [
        "Записываем обученную нейронную сеть в файл `mnist_dense.h5`"
      ]
    },
    {
      "cell_type": "code",
      "metadata": {
        "id": "jCcYrRwfLYg-",
        "colab_type": "code",
        "colab": {}
      },
      "source": [
        "#Сохраняем нейронку в файл\n",
        "model.save(\"mnist_dense.h5\")\n"
      ],
      "execution_count": 0,
      "outputs": []
    },
    {
      "cell_type": "markdown",
      "metadata": {
        "id": "ulInadIzIBj_",
        "colab_type": "text"
      },
      "source": [
        "Проверяем, что файл сохранился"
      ]
    },
    {
      "cell_type": "code",
      "metadata": {
        "id": "DFOL85B1IEgO",
        "colab_type": "code",
        "outputId": "d6e51f08-5a6b-4a6c-cfe4-66ddef4cfc1c",
        "colab": {
          "base_uri": "https://localhost:8080/",
          "height": 34
        }
      },
      "source": [
        "#Выводим на экран список текущих файлов\n",
        "!ls"
      ],
      "execution_count": 18,
      "outputs": [
        {
          "output_type": "stream",
          "text": [
            "mnist_dense.h5\tsample_data\n"
          ],
          "name": "stdout"
        }
      ]
    },
    {
      "cell_type": "markdown",
      "metadata": {
        "id": "52MAtyzWGKAC",
        "colab_type": "text"
      },
      "source": [
        "**Сохраняем файлы на локальный компьютер**"
      ]
    },
    {
      "cell_type": "code",
      "metadata": {
        "id": "0etc3S-PGOuy",
        "colab_type": "code",
        "colab": {}
      },
      "source": [
        "#Скачиваем файл локально на компьютер\n",
        "files.download(\"mnist_dense.h5\")"
      ],
      "execution_count": 0,
      "outputs": []
    },
    {
      "cell_type": "markdown",
      "metadata": {
        "id": "pR_nstTJIRTc",
        "colab_type": "text"
      },
      "source": [
        "Если хотите использовать обученную нейронную сеть на своем компьютере:\n",
        "\n",
        "```\n",
        "from keras.models import load_model\n",
        "model = load_model('mnist_dense.h5')\n",
        "```"
      ]
    },
    {
      "cell_type": "markdown",
      "metadata": {
        "id": "7vMx5V5QMYlW",
        "colab_type": "text"
      },
      "source": [
        "## Используем сеть для распознавания рукописных цифр"
      ]
    },
    {
      "cell_type": "code",
      "metadata": {
        "id": "-AGygAcPMd0G",
        "colab_type": "code",
        "colab": {}
      },
      "source": [
        "#Номер тестовой цифры, которую будем распознавать\n",
        "n_rec = 1779"
      ],
      "execution_count": 0,
      "outputs": []
    },
    {
      "cell_type": "code",
      "metadata": {
        "id": "TT4Ofqx1WTCq",
        "colab_type": "code",
        "outputId": "37845cf5-e969-475b-bbf5-b23e53266f0a",
        "colab": {
          "base_uri": "https://localhost:8080/",
          "height": 265
        }
      },
      "source": [
        "plt.imshow(Image.fromarray(x_test_org[n_rec]).convert('RGBA'))\n",
        "plt.show()"
      ],
      "execution_count": 21,
      "outputs": [
        {
          "output_type": "display_data",
          "data": {
            "image/png": "[encoded data removed]",
            "text/plain": [
              "<Figure size 432x288 with 1 Axes>"
            ]
          },
          "metadata": {
            "tags": []
          }
        }
      ]
    },
    {
      "cell_type": "markdown",
      "metadata": {
        "id": "Lnft8V55M0Rc",
        "colab_type": "text"
      },
      "source": [
        "**Меняем размерность изображения и нормализуем его**"
      ]
    },
    {
      "cell_type": "code",
      "metadata": {
        "id": "UKFWqSHtM7Nf",
        "colab_type": "code",
        "colab": {}
      },
      "source": [
        "#Выбираем нужную картинку из тестовой выборки\n",
        "x = x_test[n_rec]\n",
        "#Добавляем одну размерность в конце, чтобы нейронка могла распознать пример\n",
        "#Потому что нейронка принимает именно массов примеров для распознавания\n",
        "#Мы делаем массив из одного примеры\n",
        "x = np.expand_dims(x, axis=0)"
      ],
      "execution_count": 0,
      "outputs": []
    },
    {
      "cell_type": "markdown",
      "metadata": {
        "id": "bMruIcf2NHlN",
        "colab_type": "text"
      },
      "source": [
        "**Запускаем распознавание**"
      ]
    },
    {
      "cell_type": "code",
      "metadata": {
        "id": "Ap72-9_kNKU2",
        "colab_type": "code",
        "colab": {}
      },
      "source": [
        "#Распознаём ннаш пример\n",
        "prediction = model.predict(x)"
      ],
      "execution_count": 0,
      "outputs": []
    },
    {
      "cell_type": "markdown",
      "metadata": {
        "id": "2Gldpmn2NQ6-",
        "colab_type": "text"
      },
      "source": [
        "**Печатаем результаты распознавания**"
      ]
    },
    {
      "cell_type": "code",
      "metadata": {
        "id": "P7opRiSZNUku",
        "colab_type": "code",
        "outputId": "40379167-3ebf-4307-c52d-cfc3d3aca91e",
        "colab": {
          "base_uri": "https://localhost:8080/",
          "height": 51
        }
      },
      "source": [
        "#Выводим результат, это 10 цифр\n",
        "#Сумма значений равна 1, так как финальный слой с активационной функций softmax\n",
        "print(prediction)"
      ],
      "execution_count": 24,
      "outputs": [
        {
          "output_type": "stream",
          "text": [
            "[[1.1902880e-28 2.4297241e-18 2.0236881e-15 1.0000000e+00 1.8865837e-26\n",
            "  5.2219009e-17 4.0448991e-31 1.0343009e-15 4.3407430e-20 4.8532118e-20]]\n"
          ],
          "name": "stdout"
        }
      ]
    },
    {
      "cell_type": "markdown",
      "metadata": {
        "id": "LQTiyEM3NfRG",
        "colab_type": "text"
      },
      "source": [
        "**Преобразуем результаты из формата one hot encoding**"
      ]
    },
    {
      "cell_type": "code",
      "metadata": {
        "id": "XVC_dTGqNohG",
        "colab_type": "code",
        "outputId": "4a54d9f4-733d-4a66-8986-348800487ec1",
        "colab": {
          "base_uri": "https://localhost:8080/",
          "height": 34
        }
      },
      "source": [
        "#Получаем индекс самого большого элемента\n",
        "#Это итоговая цифра, которую распознала сеть\n",
        "prediction = np.argmax(prediction)\n",
        "print(prediction)"
      ],
      "execution_count": 25,
      "outputs": [
        {
          "output_type": "stream",
          "text": [
            "3\n"
          ],
          "name": "stdout"
        }
      ]
    },
    {
      "cell_type": "markdown",
      "metadata": {
        "id": "zJy8tKjuNyD2",
        "colab_type": "text"
      },
      "source": [
        "**Печатаем правильный ответ**"
      ]
    },
    {
      "cell_type": "code",
      "metadata": {
        "id": "0zoGlCZWN2Id",
        "colab_type": "code",
        "outputId": "4e51e236-394f-4b2c-b2d0-ada17af156f7",
        "colab": {
          "base_uri": "https://localhost:8080/",
          "height": 34
        }
      },
      "source": [
        "#выводим правильный ответ, для сравнения\n",
        "print(y_test_org[n_rec])"
      ],
      "execution_count": 26,
      "outputs": [
        {
          "output_type": "stream",
          "text": [
            "3\n"
          ],
          "name": "stdout"
        }
      ]
    },
    {
      "cell_type": "markdown",
      "metadata": {
        "id": "uFyI8beELi39",
        "colab_type": "text"
      },
      "source": [
        "## Загружаем свою картинку"
      ]
    },
    {
      "cell_type": "code",
      "metadata": {
        "id": "Pbsw3N30LnT2",
        "colab_type": "code",
        "outputId": "37be5df6-f34f-413e-8e85-7995d536bb82",
        "colab": {
          "resources": {
            "http://localhost:8080/nbextensions/google.colab/files.js": {
              "data": "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",
              "ok": true,
              "headers": [
                [
                  "content-type",
                  "application/javascript"
                ]
              ],
              "status": 200,
              "status_text": ""
            }
          },
          "base_uri": "https://localhost:8080/",
          "height": 111
        }
      },
      "source": [
        "#Загружаем файл со своей рукописной цифрой\n",
        "files.upload()"
      ],
      "execution_count": 35,
      "outputs": [
        {
          "output_type": "display_data",
          "data": {
            "text/html": [
              "\n",
              "     <input type=\"file\" id=\"files-2ddac0ce-ea4e-41d6-aa13-ba6a90970b3a\" name=\"files[]\" multiple disabled />\n",
              "     <output id=\"result-2ddac0ce-ea4e-41d6-aa13-ba6a90970b3a\">\n",
              "      Upload widget is only available when the cell has been executed in the\n",
              "      current browser session. Please rerun this cell to enable.\n",
              "      </output>\n",
              "      <script src=\"/nbextensions/google.colab/files.js\"></script> "
            ],
            "text/plain": [
              "<IPython.core.display.HTML object>"
            ]
          },
          "metadata": {
            "tags": []
          }
        },
        {
          "output_type": "stream",
          "text": [
            "Saving 1.png to 1.png\n"
          ],
          "name": "stdout"
        },
        {
          "output_type": "execute_result",
          "data": {
            "text/plain": [
              "{'1.png': b'\\x89PNG\\r\\n\\x1a\\n\\x00\\x00\\x00\\rIHDR\\x00\\x00\\x01\\xbe\\x00\\x00\\x01V\\x08\\x02\\x00\\x00\\x00\\x99\\xf8oQ\\x00\\x00\\x00\\x01sRGB\\x00\\xae\\xce\\x1c\\xe9\\x00\\x00\\x00\\x04gAMA\\x00\\x00\\xb1\\x8f\\x0b\\xfca\\x05\\x00\\x00\\x00\\tpHYs\\x00\\x00\\x0e\\xc3\\x00\\x00\\x0e\\xc3\\x01\\xc7o\\xa8d\\x00\\x00\\x10\\x01IDATx^\\xed\\xddO\\x88WU\\xff\\xc0\\xf1\\xfa%$\\xd2B\\xc4\\x85\\xd0?\\xe8\\x9f\\x03e\\xcc\"\\x0c\\x12I\\xfa\\x83\\x1b\\x17I\\xc4\\xb8\\xb2\\x19\\x11\\x12ra\\x8b\\x10!q(\\tw\\xcdV\\xd0\\x1c\\x97\\x81PK\\x8d\\t\\xa4E\\x98\\xab\\x81\\xb0H\\x03Q\\x0b\\xa4\\xa4\\x06\\x82V\\xd2\\xfc.\\xdd\\xd3<\\xdf\\xc6\\xf9w\\xe6{\\xcf\\xb9\\xf7~\\xef\\xeb\\xb5\\xe8\\xb9gz\\xb0\\x16\\x0f\\xef\\xe73\\xf7\\x9c{\\xef\\xfd\\xb3\\xb3\\xb3\\xf7\\x01\\x10\\xe3\\xff\\xc2\\x7f\\x02\\xb0b\\xd2\\t\\x10M:\\x01\\xa2I\\'@4\\xe9\\x04\\x88&\\x9d\\x00\\xd1\\xa4\\x13 \\x9at\\x02D\\x93N\\x80h\\xd2\\t\\x10M:\\x01\\xa2I\\'@4\\xe9\\x04\\x88&\\x9d\\x00\\xd1\\xa4\\x13 \\x9at\\x02D\\x93N\\x80h\\xd2\\t\\x10M:\\x01\\xa2I\\'@4\\xe9\\x04\\x88&\\x9d\\x00\\xd1\\xa4\\x13 \\x9atB_.^\\xbc\\xf8\\xc5\\x17_\\x84\\x05\\x9d!\\x9d\\xd0\\x97\"\\x9d\\xbbw\\xef\\x9e\\x9c\\x9c\\x0ck\\xbaA:a\\x95N\\x9d:\\xb5g\\xcf\\x9eK\\x97.\\x15\\xd7ccc\\xea\\xd9)\\xd2\\t\\xab\\xf4\\xf3\\xcf?\\x7f\\xf6\\xd9g\\x17.\\\\(\\x97\\xea\\xd9)\\xd2\\t+r\\xfc\\xf8\\xf1#G\\x8e\\x84\\xc5?\\xee\\xdc\\xb9\\x13\\xae\\xfe\\xa5\\x9e\\xdd!\\x9d\\xb0\\xbc\"\\x88G\\x8f\\x1e=q\\xe2\\xc4\\xfe\\xfd\\xfb\\xc3\\x8f\\xee\\xbbo\\xe3\\xc6\\x8d\\xe1\\xaa\\x87zv\\x84t\\xc22&&&\\x8a \\x96\\xd7\\xa7O\\x9f\\x9e\\xab\\xe7\\xbdSgI=\\xbb@:a\\x19333\\xe1\\xea\\x1fs\\xf5\\\\p\\xea,\\xa9\\xe7\\xc0\\x93NX\\xc6\\xbd\\xd3eY\\xcf\\xc5\\xa6\\xce\\x92z\\x0e6\\xe9\\x84e,8]\\x16\\xf5\\xfc\\xe6\\x9bo\\xc2b\\x11\\xea9\\xc0\\xee\\x9f\\x9d\\x9d\\r\\x97\\xc0\\xbfN\\x9d:555\\xb5~\\xfd\\xfa\\xe2\\xb7\\xf5\\xc2\\xdc\\t\\xa4U\\xf8\\xfc\\xf3\\xcf\\xdfx\\xe3\\x8d\\xb0`P\\x98:a\\x01\\xe5\\x99\\xcd\\x93\\'O\\xf6\\x9e\\xdc\\\\\\x9d\\xe9\\xe9\\xe9p\\xc5\\x00\\x91N\\xf8\\x8f\\xdeg\\x84\\xfa\\xb4u\\xeb\\xd6\\x9d;w\\xbe\\xf0\\xc2\\x0ba\\xcd\\x00\\x91N\\xf8\\x8fy\\xcf\\x08\\xf5\\xe3\\xf2\\xe5\\xcbE\\x85w\\xed\\xda\\x15\\xd6\\x0c\\x10\\xe9\\x84\\xff\\xb8u\\xebV\\xb8\\xaa\\x82\\x9d\\xa2Ae\\x9b\\x08\\xfe\\xa7\\xc8\\\\\\x11\\xbb\\xb0\\xa8\\xce\\x993gFGG\\xc3\\x82\\x81`\\xea\\x84\\xa0\\xf7\\xa9\\xa1j\\x15\\x7f\\xacwz\\x0e\\x18\\xe9\\x84`\\xdeSC\\xd5\\xb2\\xcf>`\\xa4\\x13\\xaa\\xdcU_\\xcc\\x9a5k\\xc2\\x15\\x03A:\\xa1\\xca]\\xf5\\xc5\\xdc\\xbd{7\\\\1\\x10\\xa4\\x93N\\xcb0o\\x8e\\x8c\\x8c8\\xdd9x\\xa4\\x93N\\xcb0o\\x0e\\r\\r\\x9d?\\x7f\\xde\\xe9\\xce\\x01#\\x9dtT\\x86y\\xb3\\xe4.\\xe7@\\x92N:*\\xc3\\xbcYr\\x97s I\\'\\x1d\\xb5\\xf4\\xdb6+\\xe1.\\xe7\\x00\\x93N:j\\x89w\\xbcW\\xc5]\\xce\\x01&\\x9dt\\x8e\\xbb\\x9c\\xf4O:\\xe9\\x1cw9\\xe9\\x9ft\\xd2!\\xd9\\xe6\\xcd-[\\xb6\\xb8\\xcb9\\xd8\\xa4\\x93\\x0e\\xc96on\\xd8\\xb0\\xc1]\\xce\\xc1&\\x9dtB\\xb6y\\xb3\\xb4n\\xdd\\xbap\\xc5\\x80\\x92N:!\\xdb\\xbcY\\xda\\xbauk\\xb8b@I\\'\\x9d\\x90\\xe1\\x14g/{\\xeb\\x03O:\\xe9\\x84\\x0c\\xa78{\\xd9[\\x1fx\\xd2\\xc9\\x80\\xb8x\\xf1\\xe2\\x82ob\\xcf|\\x97\\xb3d\\xea\\x1cx\\xd2\\xc9\\x80(\\xd2\\xb9{\\xf7\\xee{\\xbf\\xa1\\x96\\xf9.g\\xc9\\xd49\\xf0\\xa4\\x93\\x01Q\\xde\\xcd\\xbc\\xf7\\x0b\\x94\\x99\\xefr\\x96L\\x9d\\x03O:\\x19\\x10sw3\\xe7\\xd53\\xf3]\\xce\\x92\\xa9s\\xe0I\\'\\xadw\\xef\\xdd\\xcc\\xdez\\x9a:IA:i\\xbd\\x05\\xeff\\xce\\xd5\\xd3\\xd4I\\n\\xd2I\\xeb-6W\\x16\\xf5|\\xf1\\xc5\\x173\\xef\\xad\\x97L\\x9d\\x03O:i\\xbd%\\xe6\\xca\\xcb\\x97/g\\xde[/\\x99:\\x07\\x9et\\xd2z\\xb5\\xdc\\xcd\\\\\\x8c7\\xc3w\\x84t\\xd2z\\xb5\\xdc\\xcd\\\\\\x8c7\\xc3w\\x84t\\xd2b\\xb5<)\\xb44w9;B:i\\xb1Z\\x9e\\x14Z\\x9a\\xbb\\x9c\\x1d!\\x9d\\xb4\\xd8\\xad[\\xb7\\xc2U\\x03\\xb8\\xcb\\xd9)\\xd2I[MNN~\\xfa\\xe9\\xa7a\\xd1\\x00\\xeerv\\x8at\\xd2J\\xc7\\x8f\\x1f\\x1f\\x1b\\x1b\\x0b\\x8bfp\\x97\\xb3S\\xa4\\x93\\xf6)\\xe6\\xcd\\xa3G\\x8f\\x86Ec\\xb8\\xcb\\xd9)\\xd2I\\xcbLLL4m\\xde,\\x99:;E:i\\x99\\x99\\x99\\x99p\\xd50\\xa6\\xceN\\x91NZ\\xa6Q\\xcf\\x0e\\xf52uv\\x8at\\xd22\\x8dzv\\xa8\\x97\\xa9\\xb3S\\xa4\\x93\\x96i\\xd4Y\\xce\\x92\\x13\\x9d\\x1d$\\x9d\\xb4I\\xd3\\xcer\\x96\\x9c\\xe8\\xec \\xe9\\xa45\\xec\\xad\\xd3\\x1c\\xd2Ik\\xd8[\\xa79\\xa4\\x93\\x16h\\xe0\\x1b\\x92z\\x99:;H:i\\x81\\x06\\xbe!\\xa9\\x97\\xa9\\xb3\\x83\\xa4\\x93Fk\\xf8\\xbcY2uv\\x90t\\xd2h\\r\\x9f7K\\xa6\\xce\\x0e\\x92N\\x1a\\xad\\x81\\xa78\\xefe\\xea\\xec \\xe9\\xa4\\xb9\\x9ay\\x8a\\xf3^\\xa6\\xce\\x0e\\x92N\\x1a\\xaa\\xb1\\xa78\\xefe\\xea\\xec \\xe9\\xa4\\xa1\\x1a{\\x8a\\xf3^\\xa6\\xce\\x0e\\x92N\\x1a\\xa7\\x15\\xbb\\xea\\xbdL\\x9d\\x1d$\\x9d4N+v\\xd5{\\x99:;H:i\\x90\\xd6\\xcd\\x9b%Sg\\x07I\\'\\r\\xd2\\xbay\\xb3d\\xea\\xec \\xe9\\xa4AZq\\x8a\\xb3\\x977uv\\x96t\\xd2\\x14m9\\xc5\\xd9\\xcb\\x9b:;K:i\\x84\\x16\\x9d\\xe2,\\x997;N:i\\x84\\x16\\x9d\\xe2,\\x997;N:\\xa9\\x99]u\\xdaH:\\xa9\\x99]u\\xdaH:\\xa9MK\\xe7\\xcd\\x92\\xa9\\xb3\\xe3\\xa4\\x93\\xda\\xb4t\\xde,\\x99:;N:\\xa9A\\xab\\xe7M{\\xeb\\x14\\xa4\\x93\\x1a\\xb4z\\xde\\xb4\\xb7NA:\\xa9\\xc1\\x9d;w\\xc2U\\xab\\x987\\x99#\\x9d\\xd4`\\xe3\\xc6\\x8d\\xe1\\xaaU\\xcc\\x9b\\xcc\\x91Nj\\xd0\\xbag\\xd5Kv\\xd5\\x99#\\x9d\\xe4\\xd6\\xc6g\\xd5Kv\\xd5\\x99#\\x9dd\\xd5\\xbag\\xd5{\\x99:\\x99#\\x9dd\\xd5\\xbag\\xd5{\\x99:\\x99#\\x9d$W\\x9e\\xe2<p\\xe0@{\\xcfr\\x96L\\x9d\\xcc\\x91N\\x92+Oq\\x9e<y\\xb2\\xbdg9K\\xa6N\\xe6H\\'\\xc9\\xb5t?\\xbd\\x97\\x13\\x9d\\xcc#\\x9d\\xa4\\xd5\\xde\\xfd\\xf4^Nt2\\x8ft\\x92P\\xab\\xf7\\xd3{\\xb9\\xcb\\xc9<\\xd2IB\\xad\\xdeO\\xef\\xe5.\\'\\xf3H\\'I\\xb4\\xfa\\xddH\\xf72u2\\x8ft\\x92D\\xab\\xdf\\x8dt/S\\'\\xf3H\\'\\x95\\xc9|~\\xb3\\xdc\\xf5>|\\xf8\\xf0\\xc3\\x0f?\\x1c~\\x94\\x8c\\xa9\\x93y\\xa4\\x93\\xcad>\\xbfY\\xeez\\x17\\x7f\\xfd\\xe5\\x97_\\xc2\\x8f\\x921u2\\x8ftR\\x99\\xcco\\xe1,&\\xc1\\x0c;\\xf8Nt\\xb2 \\xe9\\xa42\\x99\\xdf\\xc2YL\\x82\\x19v\\xf0\\x9d\\xe8dA\\xd2I_\\xea\\xba\\xbfYN\\x82\\x19\\xe6\\\\w9Y\\x90t\\xd2\\x97Z\\xeeo\\x9e8q\\xa2\\x9c\\x043\\xcc\\xb9\\xeer\\xb2 \\xe9\\xa4/\\x99\\x9fO_\\xbf~}y\\x91\\xed\\xdc\\xa8\\xa9\\x93\\x05I\\'\\xab\\x97\\xf9\\xf9\\xf4\\xd1\\xd1\\xd1C\\x87\\x0e\\x95\\xd7\\xd9\\xce\\x8d\\x9a:Y\\x90t\\x12\\xed\\xed\\xb7\\xdf~\\xfc\\xf1\\xc77o\\xde\\x9cgw\\xbb\\xbc\\xb3\\xf9\\xf1\\xc7\\x1f\\x9f9s&\\xfc\\x8d\\x8c\\xbb\\xf9ss.\\xf4\\x92N\\xa2\\xdd\\xb8q\\xe3\\xe6\\xcd\\x9bW\\xaf^\\r\\xebdz\\xefl\\x1e9r$\\xfc\\xf4\\x1fyv\\xf3{\\xe7\\\\\\xe8%\\x9dD(\\xe7\\xcd+W\\xae\\x84u2\\xcb\\x9e\\xa6\\xcc0u\\xee\\xdb\\xb7\\xafw\\xce\\x85^\\xd2I\\x84r\\xde\\xcc\\x90\\xadeOSf\\x98:\\x1f}\\xf4\\xd1p\\x05\\xf7\\x90N\\x96QN\\x9a\\xcf>\\xfbl\\xeays\\xde\\x99\\xcd\\xf0\\xd3Ed\\xd8\\xd9\\xb7\\xb7\\xce\\x12\\xa4\\x93e\\x94\\x93\\xe6\\xf7\\xdf\\x7f\\x9fz\\xde\\x9cwf3\\xfct!yv\\xf6\\xed\\xad\\xb3\\x84\\xfbggg\\xc3%\\xfc\\xeb\\xd4\\xa9SSSS\\xb7o\\xdf\\xbe~\\xfd\\xfa_\\x7f\\xfd\\x95\\xae\\x98\\xaf\\xbe\\xfaj1\\xdc\\r\\x0f\\x0fOOO\\x1f<xp%\\xcf;NLL\\xbc\\xf7\\xde{a\\x91\\xc6\\xf6\\xed\\xdb\\xd7\\xad[\\xb7\\xc2\\x7f\\x1f:\\xaaH\\'\\xccs\\xec\\xd8\\xb1\\xf0\\xbf\\x8f\\x94FGG\\xc3?/F\\x86\\x7f\\xb7\\xe2\\x1f\\x11\\xfea\\xb0\\x08\\xbf\\xb0\\xb3\\x80\\xa4\\x87\\x19\\x9f{\\xee\\xb9\\x8d\\x1b7\\xee\\xdd\\xbbwu\\xfb\\xd7\\x196\\xa9\\xdc\\xe5dY\\xd2\\xc9\\x02\\x0e\\x1d:T\\x8c\\x84aQ\\xa9\\xe2\\x8f\\xfd\\xee\\xbb\\xef~\\xfb\\xed\\xb7\\xb3g\\xcf\\x86\\x1fE\\xf2\\xdc:M \\x9d,\\xac\\x18\\t7m\\xda\\x14\\x16}\\xebs\\xd2\\xec\\x95t\\xea\\xdc\\xb2e\\xcbJ\\xf6\\xf7A:Y\\xd4\\xe6\\xcd\\x9b\\xc3U\\x7f\\xfa\\x9f4{%\\x9d:7l\\xd8\\xb0\\xec\\xfe>\\x14\\xa4\\x93\\xff\\x98\\x9e\\x9e\\x1e\\x1f\\x1f\\x7f\\xeb\\xad\\xb7\\x8a9\\xb1\\x92S\\x9c\\x15>\\x93\\x93\\xe1mI\\xeb\\xd6\\xad\\x0bW\\xb0$\\xe9\\xe4?\\x86\\x87\\x87o\\xdc\\xb8q\\xee\\xdc\\xb9\\xa2\\x9b\\x95\\xfcj\\\\\\xe139\\x19\\xde\\x96\\xb4u\\xeb\\xd6p\\x05K\\x92N\\xe6+\\x86\\xc4>\\xf7\\x88\\xa2\\x9e\\x0bZ\\xb9\\xa4w9\\x9fx\\xe2\\tw9Y9\\xe9d\\x01}\\xd6s\\xe5\\xcf\\x05EIz\\x97\\xb3\\x98\\x8e\\xdd\\xe5d\\xe5\\xa4\\x93\\x85\\xc5\\xd63\\xd1\\xa4\\xd9+\\xe9\\xd4\\xe9,\\'Q\\xa4\\x93EE\\xd53\\xd1\\xa4\\xd9+\\xe9\\xd4\\xe9,\\'Q\\xa4\\x93\\xa5\\xac\\xa4\\x9e\\xcb\\xbe[\\xb3*\\xa6N\\x9aC:Y\\xc6\\xb2\\xf5\\\\\\xf6\\xdd\\x9aU1u\\xd2\\x1c\\xd2\\xc9\\xf2\\x16\\xabg\\xe6go\\x92N\\x9d^lL\\x14\\xe9dE\\x16\\xacg\\xe6go\\x92N\\x9dO>\\xf9d\\xb8\\x82\\x15\\x90NV\\xaa\\xa8\\xe7\\'\\x9f|r\\xec\\xd8\\xb1\\xe27\\xf4m\\xdb\\xb6\\x15!{\\xf9\\xe5\\x97\\xc3\\xdf\\xcb\"\\xe9\\x9b\\xe1\\xdd\\xeb$\\x8aW\\x1d\\xd3\\x0e\\x93\\x93\\x93I\\xbf]\\\\\\xfc_\\xc2\\xf8\\xf8xX\\xc0rL\\x9d\\xb4\\xc0\\xc4\\xc4D\\xeao\\xbe\\x9b:\\x89\"\\x9d\\xb4\\xc0\\xcc\\xccL\\xb8J\\xc6\\x0e;Q\\xa4\\x93\\x16H\\xba\\xb7\\xbe}\\xfbvO\\xaf\\x13K:i\\x81\\xa4{\\xeb\\xaf\\xbc\\xf2\\x8a\\xa7\\xd7\\x89%\\x9d\\xb4@\\xa2\\xa9\\xd3;\\xe1Y5\\xe9\\xa4\\x05\\x12M\\x9d\\xde\\t\\xcf\\xaaI\\'-\\x90h\\xea\\xf4\\x04\\x11\\xab&\\x9d\\xb4@\\xa2\\xa9\\xd3\\x13D\\xac\\x9at\\xd2hI\\xbfG\\xe4,\\'\\xab&\\x9d4Z\\xd2\\xef\\x119\\xcb\\xc9\\xaaI\\'\\r\\x95\\xe1\\xfb\\x97\\xeb\\xd7\\xaf\\x0fW\\x10I:i\\xa8\\xd4\\xdf\\xbf\\x1c\\x1d\\x1d=t\\xe8PX@$\\xaf\\xff\\xa0q\\x8aysjjjff&]7_\\x7f\\xfd\\xf5/\\xbf\\xfc2, \\x9e\\xa9\\x93\\xc6\\xc9\\xf0\\xbd\\xf5\\x97^z)\\\\\\xc1\\xaaH\\'\\r\\x92\\xe1\\xfef\\xc9\\xde:}\\x92N\\x1a$\\xc3\\xbcY\\xb2\\xb7N\\x9f\\xa4\\x93\\x06I\\xfa\\x86\\xa4^\\xa6N\\xfa$\\x9d4H\\xd27$\\xf52u\\xd2\\'\\xe9\\xa4A\\xb2M\\x9dNt\\xd2\\'\\xe9\\xa4A\\xf2L\\x9dNt\\xd2?\\xe9\\xa4A2L\\x9d\\xfb\\xf6\\xed;s\\xe6LX\\xc0jI\\'\\r\\x92a\\xea\\xf4\\xa29*!\\x9d4H\\x86\\xa9\\xd3\\xde:\\x95\\x90N\\x1a$\\xc3\\xd4io\\x9dJH\\'\\rb\\xea\\xa4-\\xa4\\x93\\x061u\\xd2\\x16\\xd2I\\x83\\x98:i\\x0b\\xe9\\xa4AL\\x9d\\xb4\\x85t\\xd2\\x08\\x19\\xde\\x99422\\xe2\\xab\\xebTE:i\\x84\\x0c\\xefL\\x1a\\x1a\\x1a\\xf2\\xd5u\\xaa\"\\x9d4\\x82\\xbb\\x9c\\xb4\\x8bt\\xd2\\x08\\xeer\\xd2.\\xd2I\\xcd\\xbc\\x19\\x9e6\\x92Nj\\xe6\\xcd\\xf0\\xb4\\x91tR\\xb3\\x0cw9\\xed\\xadS9\\xe9\\xa4f\\x19\\xeer\\xda[\\xa7r\\xd2I\\xcd\\xec\\xad\\xd3F\\xd2I\\xcd\\xec\\xad\\xd3F\\xd2I\\xcd2L\\x9d\\xbeDD\\xe5\\xa4\\x93\\x9a\\xa5\\x9e:}\\x89\\x88\\x14\\xa4\\x93\\x9a%\\x9d:}\\x89\\x88D\\xa4\\x93\\x9a%\\x9d:}\\x89\\x88D\\xa4\\x93\\x9a%\\x9d:\\xed\\xad\\x93\\x88tR\\xb3\\xa4S\\xa7\\xbdu\\x12\\x91Nj\\xf6\\xd5W_\\x85\\xab\\x04L\\x9d$\"\\x9d\\xd4\\xec\\x81\\x07\\x1e\\x08W\\t\\x98:ID:\\xa9\\xd9\\xaf\\xbf\\xfe\\x1a\\xae\\x120u\\x92\\x88tR\\xa7\\xc9\\xc9\\xc9\\x1f~\\xf8!,\\x120u\\x92\\x88tR\\x9b\\x89\\x89\\x89\\xb1\\xb1\\xb1\\xb0H\\xc3\\xd4I\"\\xd2Imfff\\xc2U2\\xa6N\\x12\\x91Nj\\x93to\\xbd\\xe4\\xe9u\\x12\\x91Nj\\x93to\\xbd\\xe0\\xe9u\\xd2\\x91Nj\\xf3\\xfb\\xef\\xbf\\x87\\xab\\x04<\\xbdNR\\xd2Im6l\\xd8\\x10\\xae\\x12\\xf0\\xf4:II\\'\\xb5I:u\\xda[\\')\\xe9\\xa46I\\xa7N{\\xeb$%\\x9d\\xd4\\xa0\\xfc\\xf6\\xfa\\xf5\\xeb\\xd7\\xc3\\xbaR\\xbe\\x7fI\\x06\\xd2I\\r\\xcao\\xaf\\xdf\\xbcy3\\xac+\\xe5\\xfb\\x97d \\x9d\\xd4 \\xe9;:\\x9d\\xe5$\\x03\\xe9\\xa4\\x06\\xe9\\xde\\xd1\\xe9,\\'yH\\'5(~\\xa1\\x0eW\\x95r\\x96\\x93l\\xa4\\x93\\xdc&\\'\\'\\xbf\\xfd\\xf6\\xdb\\xb0\\xa8\\x94\\xb3\\x9cd#\\x9dd\\xb5g\\xcf\\x9etoKr\\x96\\x93l\\xa4\\x93\\xacn\\xdf\\xbe\\x1d\\xae\\x12p\\x96\\x93l\\xa4\\x93\\xac<A\\xc4`\\x90N\\xb2\\xf2\\x04\\x11\\x83A:\\xc9*\\xe9\\xd4\\xe9D\\'\\xd9H\\'Y\\xa5\\x9b:\\x9d\\xe8$\\'\\xe9$\\x93\\xa4\\xcf\\xad;\\xd1If\\xd2I&I\\x9f[w\\xa2\\x93\\xcc\\xa4\\x93\\xe4\\xcay\\xf3\\xd2\\xa5Ka\\x9d\\xc0\\xbau\\xeb\\xc2\\x15d!\\x9d$W\\xce\\x9b\\x17.\\\\\\x08\\xeb\\xaa\\xad]\\xbbv\\xef\\xde\\xbda\\x01YH\\'\\xc9%}OR\\xe1\\xc0\\x81\\x03\\x9b6m\\n\\x0b\\xc8B:I.\\xdd{\\x92\\n\\xc5\\xc8y\\xf8\\xf0\\xe1\\xb0\\x80\\\\\\xa4\\x93\\xe4\\x92N\\x9d\\xef\\xbe\\xfb\\xae\\x91\\x93\\xfc\\xa4\\x93\\xe4\\x92N\\x9d\\x0f=\\xf4P\\xb8\\x82\\x8c\\xa4\\x93\\x842\\xec\\xad{\\x82\\x88ZH\\'\\t\\xa5\\xde[\\xf7\\x04\\x11u\\x91N\\x12\\xfa\\xfa\\xeb\\xaf\\xc3U\\x02\\xef\\xbc\\xf3\\x8e\\'\\x88\\xa8\\x8bt\\x92\\xd0\\xdf\\x7f\\xff\\x1d\\xae\\xaa\\xb6v\\xed\\xda\\xf1\\xf1\\xf1\\xb0\\x80\\xec\\xa4\\x93$\\x92>\\xb1^p\\x96\\x93zI\\'I$}b\\xddYNj\\'\\x9dT\\xac\\x9c7\\xcf\\x9d;\\x17\\xd6\\t\\xbc\\xff\\xfe\\xfbFN\\xea%\\x9dT\\xac\\x9c7\\xaf\\\\\\xb9\\x12\\xd6U\\x1b\\x1d\\x1d\\xfd\\xf0\\xc3\\x0f\\xc3\\x02j\"\\x9dTfzzz||<\\xe9)N\\xef\\xe5\\xa4!\\xa4\\x93\\xca\\x0c\\x0f\\x0f\\xdf\\xb8q#\\xdd)\\xce\\x82\\xf7r\\xd2\\x10\\xd2I\\x95\\x8a\\x91\\xb0\\xf8\\x85:,\\x12\\xf0\\xec\\x10\\rq\\xff\\xec\\xecl\\xb8\\x84\\x8a\\x8c\\x8d\\x8dMNN\\x86Eu\\x8a(\\xfbm\\x9d\\x86\\x90N\\x92x\\xe6\\x99g\\xae]\\xbb\\x16\\x16U(\\xfe\\xc0\\x1f\\x7f\\xfc1,\\xa0n~a\\xa7z\\xc5\\xc8Ym7\\x0bW\\xaf^\\xdd\\xbf\\x7f\\x7fX@\\xddL\\x9dT\\xe6\\xd4\\xa9SSSSk\\xd7\\xae={\\xf6l\\xf8Q\\xd5>\\xfa\\xe8\\xa3\\x0f>\\xf8 ,\\xa0>\\xa6N*S\\x9e\\xe8L\\xd7\\xcd\\xc2\\xdd\\xbbw\\xc3\\x15\\xd4J:\\xa9L\\xeao\\x10\\x15\\xec\\xb0\\xd3\\x10\\xd2Ie\\xa2\\xde\\x06?<<\\x1c\\xaeV\\xcc\\xdb9i\\x0e\\xe9\\xa4\\x02\\xabx\\x1b\\xfc\\x9bo\\xbe\\x19u\\x02\\xf4\\xb5\\xd7^s2\\x89\\xe6\\x90N*\\xb0\\x8a\\xb7\\xc1\\xdf\\xbd{7\\xea\\xfc\\xfc\\xb6m\\xdb\\xc2\\x154\\x80tR\\x81U\\xdc\\xe5\\\\\\xb3fM\\xf1\\xd7\\xa2\\x9eCCC\\xe5O\\x96V\\xfe\\xf7\\xa1!\\xa4\\x93\\n\\xac\\xe2\\x9b\\x97s{\\xe5###\\xe5\\xc5\\xd2\\xec\\xad\\xd3(\\xd2I\\x05V1u\\xae_\\xbf>\\xea\\x0e\\xa9\\xa9\\x93F\\x91N*\\x10;u\\x96{\\xe5QwHM\\x9d4\\x8at\\xd2\\x97\\xa2};v\\xec8}\\xfatX/\\xe9\\xb1\\xc7\\x1e{\\xe4\\x91G\\x9e\\x7f\\xfe\\xf9\\x07\\x1f|0vG\\xde\\xd4I\\xa3x\\x10\\x93~=\\xfd\\xf4\\xd3?\\xfd\\xf4SX$s\\xec\\xd81\\x9f\\xc0\\xa49L\\x9d\\xf4\\xeb\\xda\\xb5kO=\\xf5TX$022\\xb2s\\xe7\\xce\\x17^x!\\xac\\xa1\\x01\\xa4\\x93\\n$\\xad\\xe7\\xd0\\xd0\\xd0\\xf9\\xf3\\xe7w\\xed\\xda\\x15\\xd6\\xd0\\x00\\xd2I5\\xd2\\xd5\\xd3]N\\x1aH:\\xa9L\\xa2z\\xda[\\xa7\\x81\\xa4\\x93*\\xa5\\xa8\\xa7\\xa9\\x93\\x06\\x92N*Vy=M\\x9d4\\x90tR\\xbd\\xaa\\xeaio\\x9d\\xc6\\x92N\\x92\\xa8\\xa4\\x9e\\xf6\\xd6i,G\\xe2Ih\\xf7\\xee\\xdd\\x7f\\xfc\\xf1\\xc7\\x95+Wv\\xec\\xd8\\xf1\\xe7\\x9f\\x7f\\x0e\\x0f\\x0fOOO\\xaf\\xfc\\xaf\\x07\\x0f\\x1e\\xd4M\\x9aI:\\x01\\xa2\\xf9\\x85\\x1d \\x9at\\x02D\\x93N\\x80h\\xd2\\t\\x10M:\\x01\\xa2I\\'@4\\xe9\\x04\\x88&\\x9d\\x00\\xd1\\xa4\\x13 \\x9at\\x02D\\x93N\\x80h\\xd2\\t\\x10M:\\x01\\xa2I\\'@4\\xe9\\x04\\x88&\\x9d\\x00\\xd1\\xa4\\x13 \\x9at\\x02D\\x93N\\x80h\\xd2\\t\\x10M:\\x01\\xa2I\\'@4\\xe9\\x04\\x88&\\x9d\\x00\\xd1\\xa4\\x13 \\x9at\\x02D\\x93N\\x80h\\xd2\\t\\x10M:\\x01\\xa2I\\'@4\\xe9\\x04\\x88&\\x9d\\x00\\xd1\\xa4\\x13 \\x9at\\x02D\\x93N\\x80h\\xd2\\t\\x10M:\\x01\\xa2I\\'@4\\xe9\\x04\\x88&\\x9d\\x00\\xd1\\xa4\\x13 \\x9at\\x02D\\x93N\\x80h\\xd2\\t\\x10M:\\x01\\xa2I\\'@4\\xe9\\x04\\x88&\\x9d\\x00\\xd1\\xa4\\x13 \\x9at\\x02D\\x93N\\x80h\\xd2\\t\\x10M:\\x01\\xa2I\\'@4\\xe9\\x04\\x88&\\x9d\\x00\\xd1\\xa4\\x13 \\x9at\\x02D\\x93N\\x80h\\xd2\\t\\x10M:\\x01\\xa2I\\'@4\\xe9\\x04\\x88&\\x9d\\x00\\xd1\\xa4\\x13 \\x9at\\x02D\\x93N\\x80h\\xd2\\t\\x10M:\\x01\\xa2I\\'@4\\xe9\\x04\\x88&\\x9d\\x00\\xd1\\xa4\\x13 \\x9at\\x02D\\x93N\\x80h\\xd2\\t\\x10M:\\x01\\xa2I\\'@4\\xe9\\x04\\x88&\\x9d\\x00\\x91\\xee\\xbb\\xef\\xff\\x01\\xe7\\xfc\\x18\\xa2\\x16m[\\xf1\\x00\\x00\\x00\\x00IEND\\xaeB`\\x82'}"
            ]
          },
          "metadata": {
            "tags": []
          },
          "execution_count": 35
        }
      ]
    },
    {
      "cell_type": "markdown",
      "metadata": {
        "id": "2rXNsnTnMLJO",
        "colab_type": "text"
      },
      "source": [
        "Проверяем загрузку картинки"
      ]
    },
    {
      "cell_type": "code",
      "metadata": {
        "id": "v3y6wbi-MNqs",
        "colab_type": "code",
        "outputId": "7b14a176-2f05-458c-b3f0-8dc3c5b042be",
        "colab": {
          "base_uri": "https://localhost:8080/",
          "height": 34
        }
      },
      "source": [
        "!ls"
      ],
      "execution_count": 36,
      "outputs": [
        {
          "output_type": "stream",
          "text": [
            "1.png  9.png  mnist_dense.h5  sample_data\n"
          ],
          "name": "stdout"
        }
      ]
    },
    {
      "cell_type": "markdown",
      "metadata": {
        "id": "F8HQI_X5MUms",
        "colab_type": "text"
      },
      "source": [
        "Загружаем картинку из файла"
      ]
    },
    {
      "cell_type": "code",
      "metadata": {
        "id": "Zfi4L4iYMTLE",
        "colab_type": "code",
        "colab": {}
      },
      "source": [
        "#Указывает путь к файлу\n",
        "img_path = '1.png'\n",
        "#Загружаем картинку, меняем размер на 28х28, формат на оттенки серого\n",
        "img = image.load_img(img_path, target_size=(28, 28), color_mode = \"grayscale\")"
      ],
      "execution_count": 0,
      "outputs": []
    },
    {
      "cell_type": "markdown",
      "metadata": {
        "id": "c2yCw9y1QSL1",
        "colab_type": "text"
      },
      "source": [
        "Показываем картинку"
      ]
    },
    {
      "cell_type": "code",
      "metadata": {
        "id": "BNW4bWUYP8Rt",
        "colab_type": "code",
        "outputId": "8260a8be-3ad0-4e9d-af89-ae7183d888ea",
        "colab": {
          "base_uri": "https://localhost:8080/",
          "height": 265
        }
      },
      "source": [
        "#Выводим картинку\n",
        "plt.imshow(img.convert('RGBA'))\n",
        "plt.show()"
      ],
      "execution_count": 38,
      "outputs": [
        {
          "output_type": "display_data",
          "data": {
            "image/png": "[encoded data removed]",
            "text/plain": [
              "<Figure size 432x288 with 1 Axes>"
            ]
          },
          "metadata": {
            "tags": []
          }
        }
      ]
    },
    {
      "cell_type": "markdown",
      "metadata": {
        "id": "2fHqp8KbOsJd",
        "colab_type": "text"
      },
      "source": [
        "Преобразуем картинку для обработки нейронной сетью"
      ]
    },
    {
      "cell_type": "code",
      "metadata": {
        "id": "0xsuR1vDNihN",
        "colab_type": "code",
        "colab": {}
      },
      "source": [
        "#Преобразуем картинку в массив\n",
        "x = image.img_to_array(img)\n",
        "#Меняем форму массива в плоский вектор\n",
        "x = x.reshape(1, 784)\n",
        "#Инвертируем изображение, нам надо белое на чёрном фоне\n",
        "x = 255 - x\n",
        "#Нормализуем изображение\n",
        "x /= 255"
      ],
      "execution_count": 0,
      "outputs": []
    },
    {
      "cell_type": "markdown",
      "metadata": {
        "id": "OYpe-m2bNR-8",
        "colab_type": "text"
      },
      "source": [
        "Запускаем распознавание"
      ]
    },
    {
      "cell_type": "code",
      "metadata": {
        "id": "jTUbtYAPNI60",
        "colab_type": "code",
        "colab": {}
      },
      "source": [
        "#Распознаём картинку\n",
        "prediction = model.predict(x)"
      ],
      "execution_count": 0,
      "outputs": []
    },
    {
      "cell_type": "markdown",
      "metadata": {
        "id": "gdDM5wzcRRql",
        "colab_type": "text"
      },
      "source": [
        "Результаты распознавания"
      ]
    },
    {
      "cell_type": "code",
      "metadata": {
        "id": "4qbu45hIMQvk",
        "colab_type": "code",
        "outputId": "9b7a4d6d-2009-4ba5-f8e7-3b5243fee269",
        "colab": {
          "base_uri": "https://localhost:8080/",
          "height": 68
        }
      },
      "source": [
        "#Выводим результат\n",
        "prediction"
      ],
      "execution_count": 42,
      "outputs": [
        {
          "output_type": "execute_result",
          "data": {
            "text/plain": [
              "array([[1.3523850e-20, 1.0000000e+00, 4.2790847e-15, 1.6819176e-17,\n",
              "        1.7669786e-15, 3.4795739e-23, 5.2832776e-23, 1.8670010e-13,\n",
              "        3.6356771e-13, 4.4775561e-14]], dtype=float32)"
            ]
          },
          "metadata": {
            "tags": []
          },
          "execution_count": 42
        }
      ]
    },
    {
      "cell_type": "code",
      "metadata": {
        "id": "iOwGOz41PNsV",
        "colab_type": "code",
        "outputId": "f45b1ce5-2114-477d-8f7e-25e37c97ed66",
        "colab": {
          "base_uri": "https://localhost:8080/",
          "height": 34
        }
      },
      "source": [
        "#Выводим распознанную цифру\n",
        "print(np.argmax(prediction))"
      ],
      "execution_count": 43,
      "outputs": [
        {
          "output_type": "stream",
          "text": [
            "1\n"
          ],
          "name": "stdout"
        }
      ]
    },
    {
      "cell_type": "markdown",
      "metadata": {
        "id": "tkHPcwWNY6dm",
        "colab_type": "text"
      },
      "source": [
        "#Функция быстрого теста сети"
      ]
    },
    {
      "cell_type": "code",
      "metadata": {
        "id": "Mz3XwuSTZqpq",
        "colab_type": "code",
        "colab": {}
      },
      "source": [
        "#Функция генерации нейронки\n",
        "#neoronsL1 - нейронов в первом слое\n",
        "#neuronsL2 - нейронов в втором слое, 0 - если не делать слой\n",
        "#neuronsL3 - нейронов в третьем слое, 0 - если не делать слой\n",
        "#innerActivation - активационная функция скрытых слоёв\n",
        "#outputActivation - активационная функция выходного слоя\n",
        "def createNet(neoronsL1, neuronsL2, neuronsL3, innerActivation, outputActivation):\n",
        "  model = Sequential() #Создаём сеть\n",
        "  model.add(Dense(neoronsL1, input_dim=784, activation=innerActivation)) #Добавляем первый слой\n",
        "  \n",
        "  #Если число второго слоя > 0\n",
        "  #Создаём второй слой\n",
        "  if (neuronsL2 > 0):\n",
        "    model.add(Dense(neuronsL2, activation=innerActivation))\n",
        "  \n",
        "  #Если число третьего слоя > 0\n",
        "  #Создаём третий слой\n",
        "  if (neuronsL3 > 0):\n",
        "    model.add(Dense(neuronsL3, activation=innerActivation))\n",
        "    \n",
        "  #Создаём выходной слой\n",
        "  model.add(Dense(10, activation=outputActivation))\n",
        "  \n",
        "  #Компилируем сеть\n",
        "  model.compile(loss=\"categorical_crossentropy\", optimizer=\"adam\", metrics=[\"accuracy\"])\n",
        "  \n",
        "  #Возвращаем созданную сеть\n",
        "  return model\n",
        "\n",
        "#Обучаем и тестируем сеть\n",
        "#Net - лист с 5 параметрами сети\n",
        "#batch_size - размер батча\n",
        "#epochs - число эпох обучения\n",
        "#iterations - число запусков сети\n",
        "def testModel(net, batch_size, epochs, iterations):\n",
        "  acc = [] #Лист с точностями на проверочной выборке по каждому запуску\n",
        "  \n",
        "  #Запускаем iterations раз сеть\n",
        "  for i in range(iterations):\n",
        "    #Создаём сеть\n",
        "    model = createNet(net[0], net[1], net[2], net[3], net[4])\n",
        "    #Обучаем сеть\n",
        "    history = model.fit(x_train, y_train, batch_size=batch_size, epochs=epochs, verbose=0, validation_split=0.2)\n",
        "    #Добавляем в лист точность на проверочной выборке на последней итерации\n",
        "    acc.append(history.history[\"val_acc\"][-1])\n",
        "  \n",
        "  #Возвращаем лист точностей\n",
        "  return acc"
      ],
      "execution_count": 0,
      "outputs": []
    },
    {
      "cell_type": "code",
      "metadata": {
        "id": "8ZUVXlVzcX_J",
        "colab_type": "code",
        "colab": {
          "base_uri": "https://localhost:8080/",
          "height": 34
        },
        "outputId": "a3b8ab6b-ec3f-4abd-801d-5ac62583143e"
      },
      "source": [
        "#Запускаем тест одной нейронки 100 раз\n",
        "acc = testModel([800,0,0,'relu','softmax'], 200, 10, 3)\n",
        "print(acc)"
      ],
      "execution_count": 46,
      "outputs": [
        {
          "output_type": "stream",
          "text": [
            "[0.979, 0.97866666, 0.9795833]\n"
          ],
          "name": "stdout"
        }
      ]
    },
    {
      "cell_type": "code",
      "metadata": {
        "id": "tbePSGZCdFp3",
        "colab_type": "code",
        "outputId": "3ce7b4c4-eb82-443c-c4c9-5169343b527c",
        "colab": {
          "base_uri": "https://localhost:8080/",
          "height": 85
        }
      },
      "source": [
        "#Отображаем результаты\n",
        "print(\"Точность на всех запусках: \", [round(a,4) for a in acc])\n",
        "print(\"Среднее значение точности: \", round(sum(acc)/len(acc), 4))\n",
        "print(\"Амплитуда разброса точности: \", round(max(acc) - min(acc), 4))\n",
        "print(\"Среднеквадратичное отклонение точности: \", round(np.array(acc).std(),6))"
      ],
      "execution_count": 47,
      "outputs": [
        {
          "output_type": "stream",
          "text": [
            "Точность на всех запусках:  [0.979, 0.9787, 0.9796]\n",
            "Среднее значение точности:  0.9791\n",
            "Амплитуда разброса точности:  0.0009\n",
            "Среднеквадратичное отклонение точности:  0.000379\n"
          ],
          "name": "stdout"
        }
      ]
    },
    {
      "cell_type": "code",
      "metadata": {
        "id": "lE_0ZE4aeFQs",
        "colab_type": "code",
        "outputId": "e04c1c36-14c8-402a-db67-1ece0bebea68",
        "colab": {
          "base_uri": "https://localhost:8080/",
          "height": 265
        }
      },
      "source": [
        "#Строим гистограмму точности сети\n",
        "plt.hist(acc, 8)\n",
        "plt.show()"
      ],
      "execution_count": 48,
      "outputs": [
        {
          "output_type": "display_data",
          "data": {
            "image/png": "[encoded data removed]",
            "text/plain": [
              "<Figure size 432x288 with 1 Axes>"
            ]
          },
          "metadata": {
            "tags": []
          }
        }
      ]
    },
    {
      "cell_type": "markdown",
      "metadata": {
        "id": "Vb4sndlyWn0Y",
        "colab_type": "text"
      },
      "source": [
        "**Генерируем и тестируем нейронки**"
      ]
    },
    {
      "cell_type": "code",
      "metadata": {
        "id": "Qe5w8lM3RrEs",
        "colab_type": "code",
        "colab": {}
      },
      "source": [
        "#Создаём 5 различных сетей\n",
        "net = []\n",
        "net.append([800, 0, 0, 'relu', 'softmax'])\n",
        "net.append([400, 0, 0, 'relu', 'softmax'])\n",
        "net.append([400, 400, 0, 'relu', 'softmax'])\n",
        "net.append([800, 0, 0, 'relu', 'sigmoid'])\n",
        "net.append([800, 0, 0, 'linear', 'softmax'])\n",
        "net.append([400, 0, 0, 'relu', 'sigmoid'])\n",
        "net.append([400, 400, 0, 'relu', 'sigmoid'])\n"
      ],
      "execution_count": 0,
      "outputs": []
    },
    {
      "cell_type": "code",
      "metadata": {
        "id": "4wj0ldKWXAqa",
        "colab_type": "code",
        "outputId": "c94b2c3e-585d-4ccd-b1aa-824db32c26d2",
        "colab": {
          "base_uri": "https://localhost:8080/",
          "height": 136
        }
      },
      "source": [
        "\n",
        "#Обучаем каждую сеть и выводим среднюю точность на проверочной выборке по 3 запускам\n",
        "for currNet in net:\n",
        "  acc = testModel(currNet, 200, 10, 3)\n",
        "  print(currNet, round(sum(acc)/len(acc),4))"
      ],
      "execution_count": 53,
      "outputs": [
        {
          "output_type": "stream",
          "text": [
            "[800, 0, 0, 'relu', 'softmax'] 0.979\n",
            "[400, 0, 0, 'relu', 'softmax'] 0.9774\n",
            "[400, 400, 0, 'relu', 'softmax'] 0.977\n",
            "[800, 0, 0, 'relu', 'sigmoid'] 0.0995\n",
            "[800, 0, 0, 'linear', 'softmax'] 0.9244\n",
            "[400, 0, 0, 'relu', 'sigmoid'] 0.0995\n",
            "[400, 400, 0, 'relu', 'sigmoid'] 0.0995\n"
          ],
          "name": "stdout"
        }
      ]
    }
  ]
}